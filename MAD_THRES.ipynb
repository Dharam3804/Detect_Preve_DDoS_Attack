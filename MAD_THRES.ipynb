{
 "cells": [
  {
   "cell_type": "code",
   "execution_count": 1,
   "metadata": {},
   "outputs": [],
   "source": [
    "#importing libraries\n",
    "import numpy as np\n",
    "import pandas as pd \n",
    "import matplotlib.pyplot as plt\n",
    "import math"
   ]
  },
  {
   "cell_type": "code",
   "execution_count": 2,
   "metadata": {},
   "outputs": [
    {
     "name": "stdout",
     "output_type": "stream",
     "text": [
      "(113270, 42) (15451, 42)\n",
      "(128721, 42)\n",
      "[[0 'tcp' 'private' ... 0.0 1.0 1.0]\n",
      " [0 'tcp' 'private' ... 0.0 1.0 1.0]\n",
      " [2 'tcp' 'ftp_data' ... 0.0 0.0 0.0]\n",
      " ...\n",
      " [0 'tcp' 'smtp' ... 0.0 0.01 0.0]\n",
      " [0 'tcp' 'klogin' ... 1.0 0.0 0.0]\n",
      " [0 'tcp' 'ftp_data' ... 0.0 0.0 0.0]]\n",
      "[['DDoS']\n",
      " ['DDoS']\n",
      " ['normal']\n",
      " ...\n",
      " ['normal']\n",
      " ['DDoS']\n",
      " ['normal']]\n"
     ]
    }
   ],
   "source": [
    "#load the NSL_KDD dataset\n",
    "train=pd.read_csv('dataset/KDDTrain+.csv')\n",
    "test=pd.read_csv('dataset/KDDTest+.csv')\n",
    "\n",
    "#size of train and test data\n",
    "print(train.shape,test.shape)\n",
    "\n",
    "# concatenate traina and test data\n",
    "dataset=pd.concat([test,train])\n",
    "\n",
    "#size of whole dataset\n",
    "print(dataset.shape)\n",
    "\n",
    "#print(dataset.head(2))\n",
    "#print(dataset.columns)\n",
    "X = dataset.iloc[:, :-1].values\n",
    "print(X)\n",
    "y = dataset.iloc[:, 41:42].values\n",
    "print(y)"
   ]
  },
  {
   "cell_type": "code",
   "execution_count": 3,
   "metadata": {},
   "outputs": [
    {
     "name": "stdout",
     "output_type": "stream",
     "text": [
      "[[0.0 1.0 0.0 ... 0.0 1.0 1.0]\n",
      " [0.0 1.0 0.0 ... 0.0 1.0 1.0]\n",
      " [0.0 1.0 0.0 ... 0.0 0.0 0.0]\n",
      " ...\n",
      " [0.0 1.0 0.0 ... 0.0 0.01 0.0]\n",
      " [0.0 1.0 0.0 ... 1.0 0.0 0.0]\n",
      " [0.0 1.0 0.0 ... 0.0 0.0 0.0]]\n"
     ]
    }
   ],
   "source": [
    "#Encoding of dataset\n",
    "from sklearn.compose import ColumnTransformer\n",
    "from sklearn.preprocessing import OneHotEncoder\n",
    "ct = ColumnTransformer(transformers = [('encoder', OneHotEncoder(), [1, 2, 3])], remainder = 'passthrough')\n",
    "X= ct.fit_transform(X)\n",
    "print(X)"
   ]
  },
  {
   "cell_type": "code",
   "execution_count": 4,
   "metadata": {},
   "outputs": [
    {
     "name": "stdout",
     "output_type": "stream",
     "text": [
      "[0 0 1 ... 1 0 1]\n"
     ]
    }
   ],
   "source": [
    "from sklearn.preprocessing import LabelEncoder\n",
    "le_y = LabelEncoder()\n",
    "y[:, 0] = le_y.fit_transform(y[:, 0])\n",
    "y= y.astype(int)\n",
    "y = y.ravel()\n",
    "print(y)"
   ]
  },
  {
   "cell_type": "code",
   "execution_count": 5,
   "metadata": {},
   "outputs": [
    {
     "name": "stdout",
     "output_type": "stream",
     "text": [
      "[[0.   1.   0.   ... 0.   1.   1.  ]\n",
      " [0.   1.   0.   ... 0.   1.   1.  ]\n",
      " [0.   1.   0.   ... 0.   0.   0.  ]\n",
      " ...\n",
      " [0.   1.   0.   ... 0.   0.01 0.  ]\n",
      " [0.   1.   0.   ... 1.   0.   0.  ]\n",
      " [0.   1.   0.   ... 0.   0.   0.  ]]\n"
     ]
    }
   ],
   "source": [
    "# min_max normalisation between (a,b)\n",
    "from sklearn.preprocessing import minmax_scale\n",
    "X = minmax_scale(X, feature_range=(0,1), axis=0)\n",
    "print(X)"
   ]
  },
  {
   "cell_type": "code",
   "execution_count": 6,
   "metadata": {},
   "outputs": [],
   "source": [
    "# function to calculate shannon entropy\n",
    "def cal_entropy(column):\n",
    "   counts=np.bincount(column)\n",
    "   probabilites=counts / len(column)\n",
    "   entropy=0\n",
    "   for prob in probabilites:\n",
    "      if(prob)>0:\n",
    "        entropy+=prob*math.log(prob,2)\n",
    "   return -entropy "
   ]
  },
  {
   "cell_type": "code",
   "execution_count": 7,
   "metadata": {},
   "outputs": [],
   "source": [
    "# function to calculte MedAD adaptive threshold technique\n",
    "#def thres_MedAd(data):\n",
    "  #b=1.4826\n",
    "  #a=3\n",
    "  #med=np.median(data)\n",
    "  #MedAd = b*np.median([np.abs(i - med) for i in data])\n",
    "  #thres=med+a*MedAD\n",
    "   #return thres"
   ]
  },
  {
   "cell_type": "code",
   "execution_count": 8,
   "metadata": {},
   "outputs": [],
   "source": [
    "# function to calculte MAD adaptive threshold technique\n",
    "def thres_MAD(data):\n",
    "  a=5.5\n",
    "  from numpy import mean, absolute\n",
    "  MAD =mean(absolute(data - mean(data)))\n",
    "  thres= mean(data)+a*MAD\n",
    "  return thres"
   ]
  },
  {
   "cell_type": "code",
   "execution_count": 9,
   "metadata": {},
   "outputs": [
    {
     "name": "stdout",
     "output_type": "stream",
     "text": [
      "(128721, 116)\n",
      "num_Of_Columns 116\n"
     ]
    }
   ],
   "source": [
    "print(X.shape)\n",
    "num_Of_Columns = X.shape[1]\n",
    "print(\"num_Of_Columns\",num_Of_Columns)"
   ]
  },
  {
   "cell_type": "code",
   "execution_count": 10,
   "metadata": {},
   "outputs": [
    {
     "name": "stdout",
     "output_type": "stream",
     "text": [
      "[0, 1, 2, 3, 5, 6, 7, 8, 9, 10, 11, 12, 13, 14, 15, 16, 17, 18, 19, 20, 21, 22, 23, 24, 25, 26, 27, 28, 29, 30, 31, 32, 33, 34, 35, 36, 37, 38, 39, 40, 41, 42, 43, 45, 47, 52, 53, 54, 55, 56, 57, 58, 61, 63, 64, 65, 66, 67, 69, 70, 71, 72, 73, 74, 76, 82, 86, 88, 96, 97, 98, 99, 100, 101, 102, 103, 104, 105, 106, 107, 108, 110, 111, 112, 113, 114, 115]\n",
      "87\n"
     ]
    }
   ],
   "source": [
    "# form a list of attribute that has to deleted further\n",
    "\n",
    "list=[]\n",
    "for j in range(0,num_Of_Columns) :\n",
    "        col=np.array(X[:,j])\n",
    "        col=col.astype(int)\n",
    "        if  cal_entropy(col)<thres_MAD(col) :\n",
    "            list.append(j)\n",
    "print(list)         \n",
    "print(len(list))\n",
    "\n",
    "\n",
    "\n"
   ]
  },
  {
   "cell_type": "code",
   "execution_count": 11,
   "metadata": {},
   "outputs": [
    {
     "name": "stdout",
     "output_type": "stream",
     "text": [
      "(128721, 116) (128721,)\n"
     ]
    }
   ],
   "source": [
    "print(X.shape,y.shape)"
   ]
  },
  {
   "cell_type": "code",
   "execution_count": 12,
   "metadata": {},
   "outputs": [],
   "source": [
    "# delete the attribute that have less entropy than adaptive threshold value(THR)\n",
    "X = np.delete(X, list, axis=1)"
   ]
  },
  {
   "cell_type": "code",
   "execution_count": 13,
   "metadata": {},
   "outputs": [
    {
     "name": "stdout",
     "output_type": "stream",
     "text": [
      "(128721, 29)\n"
     ]
    }
   ],
   "source": [
    "print(X.shape)"
   ]
  },
  {
   "cell_type": "code",
   "execution_count": 14,
   "metadata": {
    "scrolled": true
   },
   "outputs": [
    {
     "name": "stdout",
     "output_type": "stream",
     "text": [
      "[[0.   0.   0.   ... 0.   0.   0.  ]\n",
      " [0.   0.   0.   ... 0.   0.   0.04]\n",
      " [0.   0.   0.   ... 0.   0.   0.02]\n",
      " ...\n",
      " [0.   0.   0.   ... 0.   0.   0.  ]\n",
      " [0.   0.   0.   ... 0.   0.   0.  ]\n",
      " [0.   0.   0.   ... 0.   0.   0.  ]]\n",
      "[[0.   0.   0.   ... 0.   0.   0.07]\n",
      " [0.   0.   0.   ... 0.   0.   0.  ]\n",
      " [0.   0.   0.   ... 0.   0.   0.07]\n",
      " ...\n",
      " [0.   0.   0.   ... 0.   0.   0.02]\n",
      " [0.   0.   0.   ... 0.   0.   0.19]\n",
      " [0.   0.   0.   ... 0.   0.   0.  ]]\n",
      "[1 0 0 ... 1 1 1]\n",
      "[0 1 0 ... 1 1 1]\n"
     ]
    }
   ],
   "source": [
    "# splitting of dataset in train and test\n",
    "from sklearn.model_selection import train_test_split\n",
    "X_train, X_test, y_train, y_test = train_test_split(X, y, test_size = 0.2, random_state =42)\n",
    "print(X_train)\n",
    "print(X_test)\n",
    "print(y_train)\n",
    "print(y_test)\n"
   ]
  },
  {
   "cell_type": "code",
   "execution_count": 15,
   "metadata": {},
   "outputs": [],
   "source": [
    "from sklearn.ensemble import RandomForestClassifier,GradientBoostingClassifier\n",
    "from sklearn.linear_model import LogisticRegression"
   ]
  },
  {
   "cell_type": "code",
   "execution_count": 16,
   "metadata": {
    "scrolled": true
   },
   "outputs": [
    {
     "name": "stdout",
     "output_type": "stream",
     "text": [
      "population: 25745\n",
      "P: 15363\n",
      "N: 10382\n",
      "PositiveTest: 15149\n",
      "NegativeTest: 10596\n",
      "TP: 15064\n",
      "TN: 10297\n",
      "FP: 85\n",
      "FN: 299\n",
      "TPR: 0.9805376554058453\n",
      "TNR: 0.9918127528414563\n",
      "PPV: 0.9943890685853852\n",
      "NPV: 0.9717818044545111\n",
      "FPR: 0.008187247158543633\n",
      "FDR: 0.005610931414614826\n",
      "FNR: 0.019462344594154787\n",
      "ACC: 0.9850844824237716\n",
      "F1_score: 0.9874147876245412\n",
      "MCC: 0.969255715916597\n",
      "informedness: 0.9723504082473016\n",
      "markedness: 0.9661708730398963\n",
      "prevalence: 0.5967372305302\n",
      "LRP: 119.76402280498219\n",
      "LRN: 0.01962300296945858\n",
      "DOR: 6103.2464292740515\n",
      "FOR: 0.028218195545488864\n",
      "RMSE=  0.12212910208557334\n"
     ]
    }
   ],
   "source": [
    "# base classifier RandomForest\n",
    "y_train = y_train.ravel()\n",
    "clf1 = RandomForestClassifier(n_estimators=100)\n",
    "clf1.fit(X_train, y_train)\n",
    "y_pred1 = clf1.predict(X_test)\n",
    "from pandas_ml import ConfusionMatrix\n",
    "cm = ConfusionMatrix(y_test, y_pred1)\n",
    "cm.print_stats()\n",
    "#Root mean square error between actual and predicted class\n",
    "from sklearn.metrics import mean_squared_error\n",
    "from math import sqrt\n",
    "RMSE = sqrt(mean_squared_error(y_test, y_pred1))\n",
    "print(\"RMSE= \",RMSE)\n"
   ]
  },
  {
   "cell_type": "code",
   "execution_count": 17,
   "metadata": {},
   "outputs": [
    {
     "name": "stdout",
     "output_type": "stream",
     "text": [
      "population: 25745\n",
      "P: 15363\n",
      "N: 10382\n",
      "PositiveTest: 15120\n",
      "NegativeTest: 10625\n",
      "TP: 15014\n",
      "TN: 10276\n",
      "FP: 106\n",
      "FN: 349\n",
      "TPR: 0.9772830827312374\n",
      "TNR: 0.9897900211905221\n",
      "PPV: 0.992989417989418\n",
      "NPV: 0.9671529411764705\n",
      "FPR: 0.010209978809477943\n",
      "FDR: 0.0070105820105820105\n",
      "FNR: 0.022716917268762613\n",
      "ACC: 0.9823266653719169\n",
      "F1_score: 0.9850736476068629\n",
      "MCC: 0.9636015003544343\n",
      "informedness: 0.9670731039217595\n",
      "markedness: 0.9601423591658884\n",
      "prevalence: 0.5967372305302\n",
      "LRP: 95.71842419731799\n",
      "LRN: 0.022951249035061645\n",
      "DOR: 4170.510461155863\n",
      "FOR: 0.03284705882352941\n",
      "RMSE=  0.1329410945798293\n"
     ]
    }
   ],
   "source": [
    "# base classifier GradientBoosting\n",
    "clf2 = GradientBoostingClassifier(n_estimators=100)\n",
    "clf2.fit(X_train, y_train)\n",
    "y_pred2 = clf2.predict(X_test)\n",
    "from pandas_ml import ConfusionMatrix\n",
    "cm = ConfusionMatrix(y_test, y_pred2)\n",
    "cm.print_stats()\n",
    "#Root mean square error between actual and predicted class\n",
    "from sklearn.metrics import mean_squared_error\n",
    "from math import sqrt\n",
    "RMSE = sqrt(mean_squared_error(y_test, y_pred2))\n",
    "print(\"RMSE= \",RMSE)"
   ]
  },
  {
   "cell_type": "code",
   "execution_count": 18,
   "metadata": {},
   "outputs": [
    {
     "name": "stdout",
     "output_type": "stream",
     "text": [
      "population: 25745\n",
      "P: 15363\n",
      "N: 10382\n",
      "PositiveTest: 15024\n",
      "NegativeTest: 10721\n",
      "TP: 13506\n",
      "TN: 8864\n",
      "FP: 1518\n",
      "FN: 1857\n",
      "TPR: 0.8791251708650654\n",
      "TNR: 0.8537853978038914\n",
      "PPV: 0.8989616613418531\n",
      "NPV: 0.826788545844604\n",
      "FPR: 0.14621460219610866\n",
      "FDR: 0.10103833865814696\n",
      "FNR: 0.12087482913493458\n",
      "ACC: 0.8689065838026802\n",
      "F1_score: 0.8889327673018067\n",
      "MCC: 0.7293216005718186\n",
      "informedness: 0.7329105686689568\n",
      "markedness: 0.725750207186457\n",
      "prevalence: 0.5967372305302\n",
      "LRP: 6.0125675388149595\n",
      "LRN: 0.1415751890883225\n",
      "DOR: 42.46907652063233\n",
      "FOR: 0.17321145415539596\n",
      "RMSE=  0.36206824798278\n"
     ]
    }
   ],
   "source": [
    "# SVM\n",
    "from sklearn.svm import SVC  \n",
    "clf3= SVC(kernel='linear') \n",
    "clf3.fit(X_train, y_train) \n",
    "y_pred3 = clf3.predict(X_test)\n",
    "\n",
    "from pandas_ml import ConfusionMatrix\n",
    "cm = ConfusionMatrix(y_test, y_pred3)\n",
    "cm.print_stats()\n",
    "#Root mean square error between actual and predicted class\n",
    "from sklearn.metrics import mean_squared_error\n",
    "from math import sqrt\n",
    "RMSE = sqrt(mean_squared_error(y_test, y_pred3))\n",
    "print(\"RMSE= \",RMSE)"
   ]
  },
  {
   "cell_type": "code",
   "execution_count": 28,
   "metadata": {},
   "outputs": [
    {
     "name": "stdout",
     "output_type": "stream",
     "text": [
      "population: 25745\n",
      "P: 15363\n",
      "N: 10382\n",
      "PositiveTest: 15321\n",
      "NegativeTest: 10424\n",
      "TP: 15209\n",
      "TN: 10270\n",
      "FP: 112\n",
      "FN: 154\n",
      "TPR: 0.9899759161622079\n",
      "TNR: 0.9892120978616837\n",
      "PPV: 0.9926897722080804\n",
      "NPV: 0.9852264006139677\n",
      "FPR: 0.010787902138316317\n",
      "FDR: 0.007310227791919587\n",
      "FNR: 0.010024083837792097\n",
      "ACC: 0.9896678966789668\n",
      "F1_score: 0.9913309868335288\n",
      "MCC: 0.9785518867936774\n",
      "informedness: 0.9791880140238916\n",
      "markedness: 0.9779161728220482\n",
      "prevalence: 0.5967372305302\n",
      "LRP: 91.76723179996466\n",
      "LRN: 0.010133401986753414\n",
      "DOR: 9055.91546846011\n",
      "FOR: 0.014773599386032234\n",
      "RMSE=  0.10164695431262666\n"
     ]
    }
   ],
   "source": [
    "# KNN\n",
    "from sklearn.neighbors import KNeighborsClassifier\n",
    "clf4 = KNeighborsClassifier(n_neighbors =19)\n",
    "clf4.fit(X_train, y_train) \n",
    "y_pred4 = clf4.predict(X_test)\n",
    "\n",
    "from pandas_ml import ConfusionMatrix\n",
    "cm = ConfusionMatrix(y_test, y_pred4)\n",
    "cm.print_stats()\n",
    "#Root mean square error between actual and predicted class\n",
    "from sklearn.metrics import mean_squared_error\n",
    "from math import sqrt\n",
    "RMSE = sqrt(mean_squared_error(y_test, y_pred4))\n",
    "print(\"RMSE= \",RMSE)"
   ]
  },
  {
   "cell_type": "code",
   "execution_count": 20,
   "metadata": {},
   "outputs": [],
   "source": [
    "# meta classifier LogisticRegression\n",
    "lr = LogisticRegression(solver='lbfgs')\n"
   ]
  },
  {
   "cell_type": "code",
   "execution_count": 29,
   "metadata": {},
   "outputs": [],
   "source": [
    "from mlxtend.classifier import StackingClassifier\n",
    "sclf = StackingClassifier(classifiers=[clf1, clf2,clf4],meta_classifier=lr,use_probas = True, use_features_in_secondary = True)"
   ]
  },
  {
   "cell_type": "code",
   "execution_count": 30,
   "metadata": {},
   "outputs": [
    {
     "name": "stdout",
     "output_type": "stream",
     "text": [
      "population: 25745\n",
      "P: 15363\n",
      "N: 10382\n",
      "PositiveTest: 15363\n",
      "NegativeTest: 10382\n",
      "TP: 15280\n",
      "TN: 10299\n",
      "FP: 83\n",
      "FN: 83\n",
      "TPR: 0.9945974093601511\n",
      "TNR: 0.9920053939510691\n",
      "PPV: 0.9945974093601511\n",
      "NPV: 0.9920053939510691\n",
      "FPR: 0.007994606048930842\n",
      "FDR: 0.005402590639848988\n",
      "FNR: 0.005402590639848988\n",
      "ACC: 0.9935521460477763\n",
      "F1_score: 0.9945974093601511\n",
      "MCC: 0.9866028033112202\n",
      "informedness: 0.9866028033112202\n",
      "markedness: 0.9866028033112202\n",
      "prevalence: 0.5967372305302\n",
      "LRP: 124.40855787924203\n",
      "LRN: 0.0054461303061377015\n",
      "DOR: 22843.47800841922\n",
      "FOR: 0.007994606048930842\n",
      "RMSE=  0.0802985301996477\n"
     ]
    }
   ],
   "source": [
    "# train and test the model\n",
    "sclf.fit(X_train, y_train)\n",
    "y_pred = sclf.predict(X_test)\n",
    "from pandas_ml import ConfusionMatrix\n",
    "cm = ConfusionMatrix(y_test, y_pred)\n",
    "cm.print_stats()\n",
    "#Root mean square error between actual and predicted class\n",
    "from sklearn.metrics import mean_squared_error\n",
    "from math import sqrt\n",
    "RMSE = sqrt(mean_squared_error(y_test, y_pred))\n",
    "print(\"RMSE= \",RMSE)\n",
    "\n"
   ]
  },
  {
   "cell_type": "code",
   "execution_count": null,
   "metadata": {},
   "outputs": [],
   "source": []
  }
 ],
 "metadata": {
  "kernelspec": {
   "display_name": "Python 3",
   "language": "python",
   "name": "python3"
  },
  "language_info": {
   "codemirror_mode": {
    "name": "ipython",
    "version": 3
   },
   "file_extension": ".py",
   "mimetype": "text/x-python",
   "name": "python",
   "nbconvert_exporter": "python",
   "pygments_lexer": "ipython3",
   "version": "3.7.3"
  }
 },
 "nbformat": 4,
 "nbformat_minor": 2
}

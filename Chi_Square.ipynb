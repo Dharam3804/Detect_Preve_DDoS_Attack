{
 "cells": [
  {
   "cell_type": "code",
   "execution_count": 1,
   "metadata": {},
   "outputs": [],
   "source": [
    "#importing libraries\n",
    "import numpy as np\n",
    "import pandas as pd \n",
    "import matplotlib.pyplot as plt\n",
    "import math"
   ]
  },
  {
   "cell_type": "code",
   "execution_count": 2,
   "metadata": {},
   "outputs": [
    {
     "name": "stdout",
     "output_type": "stream",
     "text": [
      "(113270, 42) (15451, 42)\n",
      "(128721, 42)\n",
      "[[0 'tcp' 'private' ... 0.0 1.0 1.0]\n",
      " [0 'tcp' 'private' ... 0.0 1.0 1.0]\n",
      " [2 'tcp' 'ftp_data' ... 0.0 0.0 0.0]\n",
      " ...\n",
      " [0 'tcp' 'smtp' ... 0.0 0.01 0.0]\n",
      " [0 'tcp' 'klogin' ... 1.0 0.0 0.0]\n",
      " [0 'tcp' 'ftp_data' ... 0.0 0.0 0.0]]\n",
      "[['DDoS']\n",
      " ['DDoS']\n",
      " ['normal']\n",
      " ...\n",
      " ['normal']\n",
      " ['DDoS']\n",
      " ['normal']]\n"
     ]
    }
   ],
   "source": [
    "#load the NSL_KDD dataset\n",
    "train=pd.read_csv('dataset/KDDTrain+.csv')\n",
    "test=pd.read_csv('dataset/KDDTest+.csv')\n",
    "\n",
    "#size of train and test data\n",
    "print(train.shape,test.shape)\n",
    "\n",
    "# concatenate traina and test data\n",
    "dataset=pd.concat([test,train])\n",
    "\n",
    "#size of whole dataset\n",
    "print(dataset.shape)\n",
    "\n",
    "#print(dataset.head(2))\n",
    "#print(dataset.columns)\n",
    "X = dataset.iloc[:, :-1].values\n",
    "print(X)\n",
    "y = dataset.iloc[:, 41:42].values\n",
    "print(y)"
   ]
  },
  {
   "cell_type": "code",
   "execution_count": 3,
   "metadata": {},
   "outputs": [
    {
     "name": "stdout",
     "output_type": "stream",
     "text": [
      "[[0.0 1.0 0.0 ... 0.0 1.0 1.0]\n",
      " [0.0 1.0 0.0 ... 0.0 1.0 1.0]\n",
      " [0.0 1.0 0.0 ... 0.0 0.0 0.0]\n",
      " ...\n",
      " [0.0 1.0 0.0 ... 0.0 0.01 0.0]\n",
      " [0.0 1.0 0.0 ... 1.0 0.0 0.0]\n",
      " [0.0 1.0 0.0 ... 0.0 0.0 0.0]]\n"
     ]
    }
   ],
   "source": [
    "#Encoding of dataset\n",
    "from sklearn.compose import ColumnTransformer\n",
    "from sklearn.preprocessing import OneHotEncoder\n",
    "ct = ColumnTransformer(transformers = [('encoder', OneHotEncoder(), [1, 2, 3])], remainder = 'passthrough')\n",
    "X= ct.fit_transform(X)\n",
    "print(X)"
   ]
  },
  {
   "cell_type": "code",
   "execution_count": 4,
   "metadata": {},
   "outputs": [
    {
     "name": "stdout",
     "output_type": "stream",
     "text": [
      "[0 0 1 ... 1 0 1]\n"
     ]
    }
   ],
   "source": [
    "from sklearn.preprocessing import LabelEncoder\n",
    "le_y = LabelEncoder()\n",
    "y[:, 0] = le_y.fit_transform(y[:, 0])\n",
    "y= y.astype(int)\n",
    "y = y.ravel()\n",
    "print(y)"
   ]
  },
  {
   "cell_type": "code",
   "execution_count": 5,
   "metadata": {},
   "outputs": [
    {
     "name": "stdout",
     "output_type": "stream",
     "text": [
      "[[0.   1.   0.   ... 0.   1.   1.  ]\n",
      " [0.   1.   0.   ... 0.   1.   1.  ]\n",
      " [0.   1.   0.   ... 0.   0.   0.  ]\n",
      " ...\n",
      " [0.   1.   0.   ... 0.   0.01 0.  ]\n",
      " [0.   1.   0.   ... 1.   0.   0.  ]\n",
      " [0.   1.   0.   ... 0.   0.   0.  ]]\n"
     ]
    }
   ],
   "source": [
    "# min_max normalisation between (a,b)\n",
    "from sklearn.preprocessing import minmax_scale\n",
    "X = minmax_scale(X, feature_range=(0,1), axis=0)\n",
    "print(X)"
   ]
  },
  {
   "cell_type": "code",
   "execution_count": 6,
   "metadata": {},
   "outputs": [
    {
     "name": "stdout",
     "output_type": "stream",
     "text": [
      "[[0.   1.   0.   ... 0.04 0.   0.  ]\n",
      " [0.   1.   0.   ... 0.   0.   0.  ]\n",
      " [0.   0.   0.   ... 0.61 0.   0.  ]\n",
      " ...\n",
      " [0.   0.   0.   ... 0.12 0.72 0.  ]\n",
      " [0.   0.   1.   ... 0.03 1.   1.  ]\n",
      " [0.   0.   0.   ... 0.3  0.   0.  ]]\n"
     ]
    }
   ],
   "source": [
    "# chi square\n",
    "from sklearn.feature_selection import SelectKBest, chi2\n",
    "selector2 = SelectKBest(chi2, k=15).fit(X, y)\n",
    "cols = selector2.get_support(1)\n",
    "XCS = X[:,cols]\n",
    "print(XCS)"
   ]
  },
  {
   "cell_type": "code",
   "execution_count": 7,
   "metadata": {},
   "outputs": [
    {
     "name": "stdout",
     "output_type": "stream",
     "text": [
      "(128721, 15)\n"
     ]
    }
   ],
   "source": [
    "print(XCS.shape)"
   ]
  },
  {
   "cell_type": "code",
   "execution_count": 8,
   "metadata": {},
   "outputs": [
    {
     "name": "stdout",
     "output_type": "stream",
     "text": [
      "[[0.   0.   0.   ... 1.   0.   0.  ]\n",
      " [0.   0.   1.   ... 0.07 1.   1.  ]\n",
      " [0.   0.   0.   ... 0.61 0.   0.01]\n",
      " ...\n",
      " [1.   0.   0.   ... 1.   0.03 0.01]\n",
      " [1.   0.   0.   ... 1.   0.   0.  ]\n",
      " [1.   0.   0.   ... 1.   0.   0.  ]]\n",
      "[[0.   0.   0.   ... 0.8  0.   0.  ]\n",
      " [0.   0.   1.   ... 0.26 1.   1.  ]\n",
      " [0.   0.   1.   ... 0.08 1.   1.  ]\n",
      " ...\n",
      " [0.   0.   0.   ... 0.49 0.79 0.79]\n",
      " [0.   0.   1.   ... 0.05 1.   1.  ]\n",
      " [0.   0.   0.   ... 1.   0.   0.  ]]\n",
      "[1 0 1 ... 1 1 1]\n",
      "[1 0 0 ... 1 0 1]\n"
     ]
    }
   ],
   "source": [
    "# splitting of dataset in train and test\n",
    "from sklearn.model_selection import train_test_split\n",
    "X_train, X_test, y_train, y_test = train_test_split(XCS, y, test_size = 0.3, random_state = 1)\n",
    "print(X_train)\n",
    "print(X_test)\n",
    "print(y_train)\n",
    "print(y_test)"
   ]
  },
  {
   "cell_type": "code",
   "execution_count": 9,
   "metadata": {},
   "outputs": [],
   "source": [
    "from sklearn.ensemble import RandomForestClassifier,GradientBoostingClassifier\n",
    "from sklearn.linear_model import LogisticRegression"
   ]
  },
  {
   "cell_type": "code",
   "execution_count": 10,
   "metadata": {},
   "outputs": [
    {
     "name": "stdout",
     "output_type": "stream",
     "text": [
      "population: 38617\n",
      "P: 23198\n",
      "N: 15419\n",
      "PositiveTest: 23388\n",
      "NegativeTest: 15229\n",
      "TP: 22932\n",
      "TN: 14963\n",
      "FP: 456\n",
      "FN: 266\n",
      "TPR: 0.9885334942667471\n",
      "TNR: 0.9704260976717037\n",
      "PPV: 0.9805028219599795\n",
      "NPV: 0.9825333245781076\n",
      "FPR: 0.029573902328296257\n",
      "FDR: 0.019497178040020522\n",
      "FNR: 0.011466505733252867\n",
      "ACC: 0.9813035709661548\n",
      "F1_score: 0.9845017816511398\n",
      "MCC: 0.9609957076418927\n",
      "informedness: 0.9589595919384508\n",
      "markedness: 0.9630361465380872\n",
      "prevalence: 0.6007198902037962\n",
      "LRP: 33.4258726931995\n",
      "LRN: 0.011815949468758\n",
      "DOR: 2828.8774238227143\n",
      "FOR: 0.017466675421892442\n",
      "RMSE=  0.13673488594299993\n"
     ]
    }
   ],
   "source": [
    "# base classifier RandomForest\n",
    "y_train = y_train.ravel()\n",
    "clf1 = RandomForestClassifier(n_estimators=100)\n",
    "clf1.fit(X_train, y_train)\n",
    "y_pred1 = clf1.predict(X_test)\n",
    "\n",
    "from pandas_ml import ConfusionMatrix\n",
    "cm = ConfusionMatrix(y_test, y_pred1)\n",
    "cm.print_stats()\n",
    "from sklearn.metrics import mean_squared_error\n",
    "from math import sqrt\n",
    "RMSE = sqrt(mean_squared_error(y_test, y_pred1))\n",
    "print(\"RMSE= \",RMSE)\n"
   ]
  },
  {
   "cell_type": "code",
   "execution_count": 11,
   "metadata": {},
   "outputs": [
    {
     "name": "stdout",
     "output_type": "stream",
     "text": [
      "population: 38617\n",
      "P: 23198\n",
      "N: 15419\n",
      "PositiveTest: 23772\n",
      "NegativeTest: 14845\n",
      "TP: 23071\n",
      "TN: 14718\n",
      "FP: 701\n",
      "FN: 127\n",
      "TPR: 0.9945253901198379\n",
      "TNR: 0.9545366106751411\n",
      "PPV: 0.9705115261652364\n",
      "NPV: 0.9914449309531829\n",
      "FPR: 0.04546338932485894\n",
      "FDR: 0.029488473834763586\n",
      "FNR: 0.005474609880162083\n",
      "ACC: 0.9785586658725431\n",
      "F1_score: 0.9823717266340217\n",
      "MCC: 0.9554874776104899\n",
      "informedness: 0.9490620007949788\n",
      "markedness: 0.9619564571184194\n",
      "prevalence: 0.6007198902037962\n",
      "LRP: 21.875302411209386\n",
      "LRN: 0.005735358726879954\n",
      "DOR: 3814.112325474294\n",
      "FOR: 0.00855506904681711\n",
      "RMSE=  0.146428597369014\n"
     ]
    }
   ],
   "source": [
    "# base classifier GradientBoosting\n",
    "clf2 = GradientBoostingClassifier(n_estimators=100)\n",
    "clf2.fit(X_train, y_train)\n",
    "y_pred2 = clf2.predict(X_test)\n",
    "\n",
    "from pandas_ml import ConfusionMatrix\n",
    "cm = ConfusionMatrix(y_test, y_pred2)\n",
    "cm.print_stats()\n",
    "from sklearn.metrics import mean_squared_error\n",
    "from math import sqrt\n",
    "RMSE = sqrt(mean_squared_error(y_test, y_pred2))\n",
    "print(\"RMSE= \",RMSE)\n"
   ]
  },
  {
   "cell_type": "code",
   "execution_count": 12,
   "metadata": {},
   "outputs": [
    {
     "name": "stdout",
     "output_type": "stream",
     "text": [
      "population: 38617\n",
      "P: 23198\n",
      "N: 15419\n",
      "PositiveTest: 24061\n",
      "NegativeTest: 14556\n",
      "TP: 22948\n",
      "TN: 14306\n",
      "FP: 1113\n",
      "FN: 250\n",
      "TPR: 0.9892232088973187\n",
      "TNR: 0.9278163305013295\n",
      "PPV: 0.9537425709654628\n",
      "NPV: 0.9828249519098653\n",
      "FPR: 0.07218366949867047\n",
      "FDR: 0.046257429034537216\n",
      "FNR: 0.010776791102681265\n",
      "ACC: 0.964704663749126\n",
      "F1_score: 0.9711589326900696\n",
      "MCC: 0.9267520972694498\n",
      "informedness: 0.9170395393986484\n",
      "markedness: 0.9365675228753281\n",
      "prevalence: 0.6007198902037962\n",
      "LRP: 13.704252163511013\n",
      "LRN: 0.011615220327991223\n",
      "DOR: 1179.8529667565138\n",
      "FOR: 0.01717504809013465\n",
      "RMSE=  0.18787053055461883\n"
     ]
    }
   ],
   "source": [
    "# SVM\n",
    "from sklearn.svm import SVC  \n",
    "clf3= SVC(kernel='linear') \n",
    "clf3.fit(X_train, y_train) \n",
    "y_pred3 = clf3.predict(X_test)\n",
    "\n",
    "from pandas_ml import ConfusionMatrix\n",
    "cm = ConfusionMatrix(y_test, y_pred3)\n",
    "cm.print_stats()\n",
    "from sklearn.metrics import mean_squared_error\n",
    "from math import sqrt\n",
    "RMSE = sqrt(mean_squared_error(y_test, y_pred3))\n",
    "print(\"RMSE= \",RMSE)\n"
   ]
  },
  {
   "cell_type": "code",
   "execution_count": 13,
   "metadata": {},
   "outputs": [
    {
     "name": "stdout",
     "output_type": "stream",
     "text": [
      "population: 38617\n",
      "P: 23198\n",
      "N: 15419\n",
      "PositiveTest: 23369\n",
      "NegativeTest: 15248\n",
      "TP: 22923\n",
      "TN: 14973\n",
      "FP: 446\n",
      "FN: 275\n",
      "TPR: 0.9881455297870506\n",
      "TNR: 0.9710746481613594\n",
      "PPV: 0.9809148872437845\n",
      "NPV: 0.9819648478488983\n",
      "FPR: 0.028925351838640638\n",
      "FDR: 0.019085112756215498\n",
      "FNR: 0.011854470212949391\n",
      "ACC: 0.9813294662972266\n",
      "F1_score: 0.9845169325917495\n",
      "MCC: 0.9610482146274042\n",
      "informedness: 0.95922017794841\n",
      "markedness: 0.9628797350926828\n",
      "prevalence: 0.6007198902037962\n",
      "LRP: 34.161919111629\n",
      "LRN: 0.012207578722598455\n",
      "DOR: 2798.4189074602527\n",
      "FOR: 0.018035152151101783\n",
      "RMSE=  0.13664016138300406\n"
     ]
    }
   ],
   "source": [
    "#KNN\n",
    "from sklearn.neighbors import KNeighborsClassifier\n",
    "clf4 = KNeighborsClassifier(n_neighbors = 5)\n",
    "clf4.fit(X_train, y_train) \n",
    "y_pred4 = clf4.predict(X_test)\n",
    "\n",
    "from pandas_ml import ConfusionMatrix\n",
    "cm = ConfusionMatrix(y_test, y_pred4)\n",
    "cm.print_stats()\n",
    "from sklearn.metrics import mean_squared_error\n",
    "from math import sqrt\n",
    "RMSE = sqrt(mean_squared_error(y_test, y_pred4))\n",
    "print(\"RMSE= \",RMSE)\n"
   ]
  },
  {
   "cell_type": "code",
   "execution_count": 14,
   "metadata": {},
   "outputs": [],
   "source": [
    "# meta classifier LogisticRegression\n",
    "lr = LogisticRegression(solver='lbfgs')\n",
    "\n",
    "# stack esemble method \n",
    "from mlxtend.classifier import StackingClassifier\n",
    "sclf = StackingClassifier(classifiers=[clf1, clf2,clf4], \n",
    "                          meta_classifier=lr)"
   ]
  },
  {
   "cell_type": "code",
   "execution_count": 15,
   "metadata": {},
   "outputs": [
    {
     "name": "stdout",
     "output_type": "stream",
     "text": [
      "population: 38617\n",
      "P: 23198\n",
      "N: 15419\n",
      "PositiveTest: 23327\n",
      "NegativeTest: 15290\n",
      "TP: 22909\n",
      "TN: 15001\n",
      "FP: 418\n",
      "FN: 289\n",
      "TPR: 0.9875420294853005\n",
      "TNR: 0.972890589532395\n",
      "PPV: 0.9820808505165688\n",
      "NPV: 0.9810987573577502\n",
      "FPR: 0.027109410467604903\n",
      "FDR: 0.017919149483431217\n",
      "FNR: 0.012457970514699544\n",
      "ACC: 0.981692000932232\n",
      "F1_score: 0.9848038688876948\n",
      "MCC: 0.9618051327452818\n",
      "informedness: 0.9604326190176955\n",
      "markedness: 0.9631796078743191\n",
      "prevalence: 0.6007198902037962\n",
      "LRP: 36.42801567615753\n",
      "LRN: 0.0128051094837779\n",
      "DOR: 2844.8031406764785\n",
      "FOR: 0.018901242642249835\n",
      "RMSE=  0.1353070547597873\n"
     ]
    }
   ],
   "source": [
    "# train and test the model\n",
    "sclf.fit(X_train, y_train)\n",
    "y_pred = sclf.predict(X_test)\n",
    "\n",
    "from pandas_ml import ConfusionMatrix\n",
    "cm = ConfusionMatrix(y_test, y_pred)\n",
    "cm.print_stats()\n",
    "from sklearn.metrics import mean_squared_error\n",
    "from math import sqrt\n",
    "RMSE = sqrt(mean_squared_error(y_test, y_pred))\n",
    "print(\"RMSE= \",RMSE)\n"
   ]
  },
  {
   "cell_type": "code",
   "execution_count": null,
   "metadata": {},
   "outputs": [],
   "source": []
  }
 ],
 "metadata": {
  "kernelspec": {
   "display_name": "Python 3",
   "language": "python",
   "name": "python3"
  },
  "language_info": {
   "codemirror_mode": {
    "name": "ipython",
    "version": 3
   },
   "file_extension": ".py",
   "mimetype": "text/x-python",
   "name": "python",
   "nbconvert_exporter": "python",
   "pygments_lexer": "ipython3",
   "version": "3.7.3"
  }
 },
 "nbformat": 4,
 "nbformat_minor": 2
}

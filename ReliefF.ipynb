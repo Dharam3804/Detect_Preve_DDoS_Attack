{
 "cells": [
  {
   "cell_type": "code",
   "execution_count": 1,
   "metadata": {},
   "outputs": [],
   "source": [
    "#importing libraries\n",
    "import numpy as np\n",
    "import pandas as pd \n",
    "import matplotlib.pyplot as plt\n",
    "import math"
   ]
  },
  {
   "cell_type": "code",
   "execution_count": 2,
   "metadata": {},
   "outputs": [
    {
     "name": "stdout",
     "output_type": "stream",
     "text": [
      "(113270, 42) (15451, 42)\n",
      "(128721, 42)\n",
      "[[0 'tcp' 'private' ... 0.0 1.0 1.0]\n",
      " [0 'tcp' 'private' ... 0.0 1.0 1.0]\n",
      " [2 'tcp' 'ftp_data' ... 0.0 0.0 0.0]\n",
      " ...\n",
      " [0 'tcp' 'smtp' ... 0.0 0.01 0.0]\n",
      " [0 'tcp' 'klogin' ... 1.0 0.0 0.0]\n",
      " [0 'tcp' 'ftp_data' ... 0.0 0.0 0.0]]\n",
      "[['DDoS']\n",
      " ['DDoS']\n",
      " ['normal']\n",
      " ...\n",
      " ['normal']\n",
      " ['DDoS']\n",
      " ['normal']]\n"
     ]
    }
   ],
   "source": [
    "#load the NSL_KDD dataset\n",
    "train=pd.read_csv('dataset/KDDTrain+.csv')\n",
    "test=pd.read_csv('dataset/KDDTest+.csv')\n",
    "\n",
    "#size of train and test data\n",
    "print(train.shape,test.shape)\n",
    "\n",
    "# concatenate traina and test data\n",
    "dataset=pd.concat([test,train])\n",
    "\n",
    "#size of whole dataset\n",
    "print(dataset.shape)\n",
    "\n",
    "#print(dataset.head(2))\n",
    "#print(dataset.columns)\n",
    "X = dataset.iloc[:, :-1].values\n",
    "print(X)\n",
    "y = dataset.iloc[:, 41:42].values\n",
    "print(y)"
   ]
  },
  {
   "cell_type": "code",
   "execution_count": 3,
   "metadata": {},
   "outputs": [
    {
     "name": "stdout",
     "output_type": "stream",
     "text": [
      "[[0.0 1.0 0.0 ... 0.0 1.0 1.0]\n",
      " [0.0 1.0 0.0 ... 0.0 1.0 1.0]\n",
      " [0.0 1.0 0.0 ... 0.0 0.0 0.0]\n",
      " ...\n",
      " [0.0 1.0 0.0 ... 0.0 0.01 0.0]\n",
      " [0.0 1.0 0.0 ... 1.0 0.0 0.0]\n",
      " [0.0 1.0 0.0 ... 0.0 0.0 0.0]]\n"
     ]
    }
   ],
   "source": [
    "#Encoding of dataset\n",
    "from sklearn.compose import ColumnTransformer\n",
    "from sklearn.preprocessing import OneHotEncoder\n",
    "ct = ColumnTransformer(transformers = [('encoder', OneHotEncoder(), [1, 2, 3])], remainder = 'passthrough')\n",
    "X= ct.fit_transform(X)\n",
    "print(X)"
   ]
  },
  {
   "cell_type": "code",
   "execution_count": 4,
   "metadata": {},
   "outputs": [
    {
     "name": "stdout",
     "output_type": "stream",
     "text": [
      "[0 0 1 ... 1 0 1]\n"
     ]
    }
   ],
   "source": [
    "from sklearn.preprocessing import LabelEncoder\n",
    "le_y = LabelEncoder()\n",
    "y[:, 0] = le_y.fit_transform(y[:, 0])\n",
    "y= y.astype(int)\n",
    "y = y.ravel()\n",
    "print(y)"
   ]
  },
  {
   "cell_type": "code",
   "execution_count": 5,
   "metadata": {},
   "outputs": [
    {
     "name": "stdout",
     "output_type": "stream",
     "text": [
      "[[0.   1.   0.   ... 0.   1.   1.  ]\n",
      " [0.   1.   0.   ... 0.   1.   1.  ]\n",
      " [0.   1.   0.   ... 0.   0.   0.  ]\n",
      " ...\n",
      " [0.   1.   0.   ... 0.   0.01 0.  ]\n",
      " [0.   1.   0.   ... 1.   0.   0.  ]\n",
      " [0.   1.   0.   ... 0.   0.   0.  ]]\n"
     ]
    }
   ],
   "source": [
    "# min_max normalisation between (a,b)\n",
    "from sklearn.preprocessing import minmax_scale\n",
    "X = minmax_scale(X, feature_range=(0,1), axis=0)\n",
    "print(X)"
   ]
  },
  {
   "cell_type": "code",
   "execution_count": 6,
   "metadata": {},
   "outputs": [
    {
     "name": "stdout",
     "output_type": "stream",
     "text": [
      "[[0. 0. 0. ... 0. 0. 0.]\n",
      " [0. 0. 0. ... 0. 0. 0.]\n",
      " [0. 0. 0. ... 0. 0. 0.]\n",
      " ...\n",
      " [0. 0. 0. ... 0. 0. 0.]\n",
      " [0. 0. 0. ... 0. 0. 0.]\n",
      " [0. 0. 0. ... 0. 0. 0.]]\n"
     ]
    }
   ],
   "source": [
    "# ReliefF\n",
    "from ReliefF import ReliefF\n",
    "fs = ReliefF(n_neighbors=20, n_features_to_keep=50)\n",
    "XRLF = fs.fit_transform(X, y)\n",
    "print(XRLF)"
   ]
  },
  {
   "cell_type": "code",
   "execution_count": 7,
   "metadata": {},
   "outputs": [
    {
     "name": "stdout",
     "output_type": "stream",
     "text": [
      "(128721, 50)\n"
     ]
    }
   ],
   "source": [
    "print(XRLF.shape)"
   ]
  },
  {
   "cell_type": "code",
   "execution_count": 8,
   "metadata": {},
   "outputs": [
    {
     "name": "stdout",
     "output_type": "stream",
     "text": [
      "[[0. 0. 0. ... 0. 0. 0.]\n",
      " [0. 0. 0. ... 0. 0. 0.]\n",
      " [0. 0. 0. ... 0. 0. 0.]\n",
      " ...\n",
      " [0. 0. 0. ... 0. 0. 0.]\n",
      " [0. 0. 0. ... 0. 0. 0.]\n",
      " [0. 0. 0. ... 0. 0. 0.]]\n",
      "[[0. 0. 0. ... 0. 0. 0.]\n",
      " [0. 0. 0. ... 0. 0. 0.]\n",
      " [0. 0. 0. ... 0. 0. 0.]\n",
      " ...\n",
      " [0. 0. 0. ... 0. 0. 0.]\n",
      " [0. 0. 0. ... 0. 0. 0.]\n",
      " [0. 0. 0. ... 0. 0. 0.]]\n",
      "[1 0 1 ... 1 1 1]\n",
      "[1 0 0 ... 1 0 1]\n"
     ]
    }
   ],
   "source": [
    "# splitting of dataset in train and test\n",
    "from sklearn.model_selection import train_test_split\n",
    "X_train, X_test, y_train, y_test = train_test_split(XRLF, y, test_size = 0.3, random_state = 1)\n",
    "print(X_train)\n",
    "print(X_test)\n",
    "print(y_train)\n",
    "print(y_test)"
   ]
  },
  {
   "cell_type": "code",
   "execution_count": 9,
   "metadata": {},
   "outputs": [],
   "source": [
    "from sklearn.ensemble import RandomForestClassifier,GradientBoostingClassifier\n",
    "from sklearn.linear_model import LogisticRegression"
   ]
  },
  {
   "cell_type": "code",
   "execution_count": 17,
   "metadata": {},
   "outputs": [
    {
     "name": "stdout",
     "output_type": "stream",
     "text": [
      "population: 38617\n",
      "P: 23198\n",
      "N: 15419\n",
      "PositiveTest: 25087\n",
      "NegativeTest: 13530\n",
      "TP: 22859\n",
      "TN: 13191\n",
      "FP: 2228\n",
      "FN: 339\n",
      "TPR: 0.9853866712647642\n",
      "TNR: 0.8555029509047279\n",
      "PPV: 0.9111890620640172\n",
      "NPV: 0.9749445676274945\n",
      "FPR: 0.14449704909527206\n",
      "FDR: 0.08881093793598278\n",
      "FNR: 0.014613328735235796\n",
      "ACC: 0.9335266851386695\n",
      "F1_score: 0.9468364916640779\n",
      "MCC: 0.8632152530296112\n",
      "informedness: 0.8408896221694921\n",
      "markedness: 0.8861336296915117\n",
      "prevalence: 0.6007198902037962\n",
      "LRP: 6.81942418502307\n",
      "LRN: 0.01708156438242747\n",
      "DOR: 399.22714526302417\n",
      "FOR: 0.025055432372505543\n",
      "RMSE=  0.2578241937082913\n"
     ]
    }
   ],
   "source": [
    "# base classifier RandomForest\n",
    "y_train = y_train.ravel()\n",
    "clf1 = RandomForestClassifier(n_estimators=100)\n",
    "clf1.fit(X_train, y_train)\n",
    "y_pred1 = clf1.predict(X_test)\n",
    "\n",
    "from pandas_ml import ConfusionMatrix\n",
    "cm = ConfusionMatrix(y_test, y_pred1)\n",
    "cm.print_stats()\n",
    "\n",
    "from sklearn.metrics import mean_squared_error\n",
    "from math import sqrt\n",
    "RMSE = sqrt(mean_squared_error(y_test, y_pred1))\n",
    "print(\"RMSE= \",RMSE)"
   ]
  },
  {
   "cell_type": "code",
   "execution_count": 11,
   "metadata": {},
   "outputs": [
    {
     "name": "stdout",
     "output_type": "stream",
     "text": [
      "population: 38617\n",
      "P: 23198\n",
      "N: 15419\n",
      "PositiveTest: 25481\n",
      "NegativeTest: 13136\n",
      "TP: 22866\n",
      "TN: 12804\n",
      "FP: 2615\n",
      "FN: 332\n",
      "TPR: 0.9856884214156393\n",
      "TNR: 0.8304040469550554\n",
      "PPV: 0.897374514344021\n",
      "NPV: 0.9747259439707674\n",
      "FPR: 0.16959595304494454\n",
      "FDR: 0.10262548565597897\n",
      "FNR: 0.014311578584360721\n",
      "ACC: 0.9236864593313826\n",
      "F1_score: 0.9394605476694262\n",
      "MCC: 0.8436318010206406\n",
      "informedness: 0.8160924683706947\n",
      "markedness: 0.8721004583147884\n",
      "prevalence: 0.6007198902037962\n",
      "LRP: 5.811980791513477\n",
      "LRN: 0.017234475960032643\n",
      "DOR: 337.2299108479808\n",
      "FOR: 0.025274056029232644\n",
      "RMSE=  0.27624905550719525\n"
     ]
    }
   ],
   "source": [
    "# base classifier GradientBoosting\n",
    "clf2 = GradientBoostingClassifier(n_estimators=100)\n",
    "clf2.fit(X_train, y_train)\n",
    "y_pred2 = clf2.predict(X_test)\n",
    "\n",
    "from pandas_ml import ConfusionMatrix\n",
    "cm = ConfusionMatrix(y_test, y_pred2)\n",
    "cm.print_stats()\n",
    "from sklearn.metrics import mean_squared_error\n",
    "from math import sqrt\n",
    "RMSE = sqrt(mean_squared_error(y_test, y_pred2))\n",
    "print(\"RMSE= \",RMSE)"
   ]
  },
  {
   "cell_type": "code",
   "execution_count": 12,
   "metadata": {},
   "outputs": [
    {
     "name": "stdout",
     "output_type": "stream",
     "text": [
      "population: 38617\n",
      "P: 23198\n",
      "N: 15419\n",
      "PositiveTest: 25090\n",
      "NegativeTest: 13527\n",
      "TP: 22859\n",
      "TN: 13188\n",
      "FP: 2231\n",
      "FN: 339\n",
      "TPR: 0.9853866712647642\n",
      "TNR: 0.8553083857578313\n",
      "PPV: 0.9110801115982463\n",
      "NPV: 0.9749390108671546\n",
      "FPR: 0.14469161424216875\n",
      "FDR: 0.08891988840175369\n",
      "FNR: 0.014613328735235796\n",
      "ACC: 0.9334489991454541\n",
      "F1_score: 0.9467776673293572\n",
      "MCC: 0.863059613632894\n",
      "informedness: 0.8406950570225955\n",
      "markedness: 0.886019122465401\n",
      "prevalence: 0.6007198902037962\n",
      "LRP: 6.810254183877812\n",
      "LRN: 0.017085450088610912\n",
      "DOR: 398.5996358631195\n",
      "FOR: 0.02506098913284542\n",
      "RMSE=  0.2579748066275967\n"
     ]
    }
   ],
   "source": [
    "# SVM\n",
    "from sklearn.svm import SVC  \n",
    "clf3= SVC(kernel='linear') \n",
    "clf3.fit(X_train, y_train) \n",
    "y_pred3 = clf3.predict(X_test)\n",
    "\n",
    "from pandas_ml import ConfusionMatrix\n",
    "cm = ConfusionMatrix(y_test, y_pred3)\n",
    "cm.print_stats()\n",
    "from sklearn.metrics import mean_squared_error\n",
    "from math import sqrt\n",
    "RMSE = sqrt(mean_squared_error(y_test, y_pred3))\n",
    "print(\"RMSE= \",RMSE)"
   ]
  },
  {
   "cell_type": "code",
   "execution_count": 13,
   "metadata": {},
   "outputs": [
    {
     "name": "stdout",
     "output_type": "stream",
     "text": [
      "population: 38617\n",
      "P: 23198\n",
      "N: 15419\n",
      "PositiveTest: 25091\n",
      "NegativeTest: 13526\n",
      "TP: 22860\n",
      "TN: 13188\n",
      "FP: 2231\n",
      "FN: 338\n",
      "TPR: 0.9854297784291749\n",
      "TNR: 0.8553083857578313\n",
      "PPV: 0.9110836554940018\n",
      "NPV: 0.9750110897530682\n",
      "FPR: 0.14469161424216875\n",
      "FDR: 0.08891634450599817\n",
      "FNR: 0.01457022157082507\n",
      "ACC: 0.9334748944765259\n",
      "F1_score: 0.9467994781420199\n",
      "MCC: 0.8631185720483453\n",
      "informedness: 0.8407381641870062\n",
      "markedness: 0.88609474524707\n",
      "prevalence: 0.6007198902037962\n",
      "LRP: 6.810552108291998\n",
      "LRN: 0.0170350505308274\n",
      "DOR: 399.7964136336029\n",
      "FOR: 0.024988910246931836\n",
      "RMSE=  0.25792461209329\n"
     ]
    }
   ],
   "source": [
    "# KNN\n",
    "from sklearn.neighbors import KNeighborsClassifier\n",
    "clf4 = KNeighborsClassifier(n_neighbors = 5)\n",
    "clf4.fit(X_train, y_train) \n",
    "y_pred4 = clf4.predict(X_test)\n",
    "\n",
    "from pandas_ml import ConfusionMatrix\n",
    "cm = ConfusionMatrix(y_test, y_pred4)\n",
    "cm.print_stats()\n",
    "from sklearn.metrics import mean_squared_error\n",
    "from math import sqrt\n",
    "RMSE = sqrt(mean_squared_error(y_test, y_pred4))\n",
    "print(\"RMSE= \",RMSE)"
   ]
  },
  {
   "cell_type": "code",
   "execution_count": 14,
   "metadata": {},
   "outputs": [],
   "source": [
    "# meta classifier LogisticRegression\n",
    "lr = LogisticRegression(solver='lbfgs')\n",
    "\n",
    "# stack esemble method \n",
    "from mlxtend.classifier import StackingClassifier\n",
    "sclf = StackingClassifier(classifiers=[clf1, clf2,clf4], \n",
    "                          meta_classifier=lr)"
   ]
  },
  {
   "cell_type": "code",
   "execution_count": 15,
   "metadata": {},
   "outputs": [],
   "source": [
    "# train and test the model\n",
    "sclf.fit(X_train, y_train)\n",
    "y_pred = sclf.predict(X_test)"
   ]
  },
  {
   "cell_type": "code",
   "execution_count": 16,
   "metadata": {},
   "outputs": [
    {
     "name": "stdout",
     "output_type": "stream",
     "text": [
      "population: 38617\n",
      "P: 23198\n",
      "N: 15419\n",
      "PositiveTest: 25091\n",
      "NegativeTest: 13526\n",
      "TP: 22860\n",
      "TN: 13188\n",
      "FP: 2231\n",
      "FN: 338\n",
      "TPR: 0.9854297784291749\n",
      "TNR: 0.8553083857578313\n",
      "PPV: 0.9110836554940018\n",
      "NPV: 0.9750110897530682\n",
      "FPR: 0.14469161424216875\n",
      "FDR: 0.08891634450599817\n",
      "FNR: 0.01457022157082507\n",
      "ACC: 0.9334748944765259\n",
      "F1_score: 0.9467994781420199\n",
      "MCC: 0.8631185720483453\n",
      "informedness: 0.8407381641870062\n",
      "markedness: 0.88609474524707\n",
      "prevalence: 0.6007198902037962\n",
      "LRP: 6.810552108291998\n",
      "LRN: 0.0170350505308274\n",
      "DOR: 399.7964136336029\n",
      "FOR: 0.024988910246931836\n",
      "RMSE=  0.25792461209329\n"
     ]
    }
   ],
   "source": [
    "from pandas_ml import ConfusionMatrix\n",
    "cm = ConfusionMatrix(y_test, y_pred)\n",
    "cm.print_stats()\n",
    "from sklearn.metrics import mean_squared_error\n",
    "from math import sqrt\n",
    "RMSE = sqrt(mean_squared_error(y_test, y_pred))\n",
    "print(\"RMSE= \",RMSE)"
   ]
  },
  {
   "cell_type": "code",
   "execution_count": null,
   "metadata": {},
   "outputs": [],
   "source": []
  }
 ],
 "metadata": {
  "kernelspec": {
   "display_name": "Python 3",
   "language": "python",
   "name": "python3"
  },
  "language_info": {
   "codemirror_mode": {
    "name": "ipython",
    "version": 3
   },
   "file_extension": ".py",
   "mimetype": "text/x-python",
   "name": "python",
   "nbconvert_exporter": "python",
   "pygments_lexer": "ipython3",
   "version": "3.7.3"
  }
 },
 "nbformat": 4,
 "nbformat_minor": 2
}

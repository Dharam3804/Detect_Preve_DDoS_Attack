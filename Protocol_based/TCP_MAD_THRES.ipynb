{
 "cells": [
  {
   "cell_type": "code",
   "execution_count": 1,
   "metadata": {},
   "outputs": [],
   "source": [
    "#importing libraries\n",
    "import numpy as np\n",
    "import pandas as pd \n",
    "import matplotlib.pyplot as plt\n",
    "import math"
   ]
  },
  {
   "cell_type": "code",
   "execution_count": 2,
   "metadata": {},
   "outputs": [
    {
     "name": "stdout",
     "output_type": "stream",
     "text": [
      "(95788, 42) (12865, 42)\n",
      "(108653, 42)\n",
      "[[0 'tcp' 'private' ... 0.0 1.0 1.0]\n",
      " [0 'tcp' 'private' ... 0.0 1.0 1.0]\n",
      " [2 'tcp' 'ftp_data' ... 0.0 0.0 0.0]\n",
      " ...\n",
      " [0 'tcp' 'smtp' ... 0.0 0.01 0.0]\n",
      " [0 'tcp' 'klogin' ... 1.0 0.0 0.0]\n",
      " [0 'tcp' 'ftp_data' ... 0.0 0.0 0.0]]\n",
      "[['DDoS']\n",
      " ['DDoS']\n",
      " ['normal']\n",
      " ...\n",
      " ['normal']\n",
      " ['DDoS']\n",
      " ['normal']]\n"
     ]
    }
   ],
   "source": [
    "#load the NSL_KDD dataset\n",
    "train=pd.read_csv('dataset/train_TCP1.csv')\n",
    "test=pd.read_csv('dataset/Test_TCP1.csv')\n",
    "\n",
    "#size of train and test data\n",
    "print(train.shape,test.shape)\n",
    "\n",
    "# concatenate traina and test data\n",
    "dataset=pd.concat([test,train])\n",
    "\n",
    "#size of whole dataset\n",
    "print(dataset.shape)\n",
    "\n",
    "#print(dataset.head(2))\n",
    "#print(dataset.columns)\n",
    "X = dataset.iloc[:, :-1].values\n",
    "print(X)\n",
    "y = dataset.iloc[:, 41:42].values\n",
    "print(y)"
   ]
  },
  {
   "cell_type": "code",
   "execution_count": 3,
   "metadata": {},
   "outputs": [
    {
     "name": "stdout",
     "output_type": "stream",
     "text": [
      "[[1.0 0.0 0.0 ... 0.0 1.0 1.0]\n",
      " [1.0 0.0 0.0 ... 0.0 1.0 1.0]\n",
      " [1.0 0.0 0.0 ... 0.0 0.0 0.0]\n",
      " ...\n",
      " [1.0 0.0 0.0 ... 0.0 0.01 0.0]\n",
      " [1.0 0.0 0.0 ... 1.0 0.0 0.0]\n",
      " [1.0 0.0 0.0 ... 0.0 0.0 0.0]]\n"
     ]
    }
   ],
   "source": [
    "#Encoding of dataset\n",
    "from sklearn.compose import ColumnTransformer\n",
    "from sklearn.preprocessing import OneHotEncoder\n",
    "ct = ColumnTransformer(transformers = [('encoder', OneHotEncoder(), [1, 2, 3])], remainder = 'passthrough')\n",
    "X= ct.fit_transform(X)\n",
    "print(X)"
   ]
  },
  {
   "cell_type": "code",
   "execution_count": 4,
   "metadata": {},
   "outputs": [
    {
     "name": "stdout",
     "output_type": "stream",
     "text": [
      "[0 0 1 ... 1 0 1]\n"
     ]
    }
   ],
   "source": [
    "from sklearn.preprocessing import LabelEncoder\n",
    "le_y = LabelEncoder()\n",
    "y[:, 0] = le_y.fit_transform(y[:, 0])\n",
    "y= y.astype(int)\n",
    "y = y.ravel()\n",
    "print(y)"
   ]
  },
  {
   "cell_type": "code",
   "execution_count": 5,
   "metadata": {},
   "outputs": [
    {
     "name": "stdout",
     "output_type": "stream",
     "text": [
      "[[0.   0.   0.   ... 0.   1.   1.  ]\n",
      " [0.   0.   0.   ... 0.   1.   1.  ]\n",
      " [0.   0.   0.   ... 0.   0.   0.  ]\n",
      " ...\n",
      " [0.   0.   0.   ... 0.   0.01 0.  ]\n",
      " [0.   0.   0.   ... 1.   0.   0.  ]\n",
      " [0.   0.   0.   ... 0.   0.   0.  ]]\n"
     ]
    }
   ],
   "source": [
    "# min_max normalisation between (a,b)\n",
    "from sklearn.preprocessing import minmax_scale\n",
    "X = minmax_scale(X, feature_range=(0,1), axis=0)\n",
    "print(X)"
   ]
  },
  {
   "cell_type": "code",
   "execution_count": 6,
   "metadata": {},
   "outputs": [],
   "source": [
    "# function to calculate shannon entropy\n",
    "def cal_entropy(column):\n",
    "   counts=np.bincount(column)\n",
    "   probabilites=counts / len(column)\n",
    "   entropy=0\n",
    "   for prob in probabilites:\n",
    "      if(prob)>0:\n",
    "        entropy+=prob*math.log(prob,2)\n",
    "   return -entropy "
   ]
  },
  {
   "cell_type": "code",
   "execution_count": 7,
   "metadata": {},
   "outputs": [],
   "source": [
    "# function to calculte MAD adaptive threshold technique\n",
    "def thres_MAD(data):\n",
    "  a=3\n",
    "  from numpy import mean, absolute\n",
    "  MAD =mean(absolute(data - mean(data)))\n",
    "  thres= mean(data)+a*MAD\n",
    "  return thres"
   ]
  },
  {
   "cell_type": "code",
   "execution_count": 8,
   "metadata": {},
   "outputs": [
    {
     "name": "stdout",
     "output_type": "stream",
     "text": [
      "(108653, 106) (108653,)\n"
     ]
    }
   ],
   "source": [
    "print(X.shape,y.shape)"
   ]
  },
  {
   "cell_type": "code",
   "execution_count": 9,
   "metadata": {},
   "outputs": [
    {
     "name": "stdout",
     "output_type": "stream",
     "text": [
      "[17, 20, 41, 45, 58, 62, 66, 76, 89, 90, 91, 92, 93, 95, 96, 97, 98, 102, 103, 104, 105]\n"
     ]
    }
   ],
   "source": [
    "# form a list of attribute that has to deleted further\n",
    "list=[]\n",
    "for j in range(0,106):\n",
    "   col=np.array(X[:,j])\n",
    "   col=col.astype(int)\n",
    "   if  cal_entropy(col)<thres_MAD(col):\n",
    "           list.append(j)\n",
    "\n",
    "\n",
    "print(list)"
   ]
  },
  {
   "cell_type": "code",
   "execution_count": 10,
   "metadata": {},
   "outputs": [],
   "source": [
    "# delete the attribute that have less entropy than adaptive threshold value(THR)\n",
    "X = np.delete(X, list, axis=1)"
   ]
  },
  {
   "cell_type": "code",
   "execution_count": 11,
   "metadata": {},
   "outputs": [
    {
     "name": "stdout",
     "output_type": "stream",
     "text": [
      "(108653, 85)\n"
     ]
    }
   ],
   "source": [
    "print(X.shape)"
   ]
  },
  {
   "cell_type": "code",
   "execution_count": 12,
   "metadata": {},
   "outputs": [
    {
     "name": "stdout",
     "output_type": "stream",
     "text": [
      "[[0.   0.   0.   ... 0.07 0.   0.  ]\n",
      " [0.   0.   0.   ... 0.08 0.   0.  ]\n",
      " [0.   0.   0.   ... 0.   0.   0.  ]\n",
      " ...\n",
      " [0.   0.   0.   ... 0.08 0.   0.  ]\n",
      " [0.   0.   0.   ... 0.   0.14 0.07]\n",
      " [0.   0.   0.   ... 0.   0.01 0.03]]\n",
      "[[0.   0.   0.   ... 0.   0.02 0.05]\n",
      " [0.   0.   0.   ... 0.   0.   0.  ]\n",
      " [0.   0.   0.   ... 0.   0.   0.  ]\n",
      " ...\n",
      " [0.   0.   0.   ... 0.07 0.   0.  ]\n",
      " [0.   0.   0.   ... 0.   0.   0.  ]\n",
      " [0.   0.   0.   ... 0.17 0.06 0.27]]\n",
      "[0 0 1 ... 0 1 1]\n",
      "[1 1 1 ... 0 0 1]\n"
     ]
    }
   ],
   "source": [
    "# splitting of dataset in train and test\n",
    "from sklearn.model_selection import train_test_split\n",
    "X_train, X_test, y_train, y_test = train_test_split(X, y, test_size = 0.3, random_state = 1)\n",
    "print(X_train)\n",
    "print(X_test)\n",
    "print(y_train)\n",
    "print(y_test)\n"
   ]
  },
  {
   "cell_type": "code",
   "execution_count": 13,
   "metadata": {},
   "outputs": [],
   "source": [
    "from sklearn.ensemble import RandomForestClassifier,GradientBoostingClassifier\n",
    "from sklearn.linear_model import LogisticRegression"
   ]
  },
  {
   "cell_type": "code",
   "execution_count": 14,
   "metadata": {},
   "outputs": [
    {
     "name": "stdout",
     "output_type": "stream",
     "text": [
      "population: 32596\n",
      "P: 18302\n",
      "N: 14294\n",
      "PositiveTest: 18301\n",
      "NegativeTest: 14295\n",
      "TP: 18288\n",
      "TN: 14281\n",
      "FP: 13\n",
      "FN: 14\n",
      "TPR: 0.9992350562780024\n",
      "TNR: 0.9990905274940535\n",
      "PPV: 0.9992896563029343\n",
      "NPV: 0.999020636586219\n",
      "FPR: 0.000909472505946551\n",
      "FDR: 0.0007103436970657341\n",
      "FNR: 0.0007649437219975958\n",
      "ACC: 0.9991716775064425\n",
      "F1_score: 0.9992623555446275\n",
      "MCC: 0.9983179383013289\n",
      "informedness: 0.9983255837720559\n",
      "markedness: 0.9983102928891534\n",
      "prevalence: 0.5614799361884893\n",
      "LRP: 1098.697376495213\n",
      "LRN: 0.0007656400505730435\n",
      "DOR: 1435005.098901099\n",
      "FOR: 0.0009793634137810422\n",
      "RMSE=  0.02878059230727352\n"
     ]
    }
   ],
   "source": [
    "# base classifier RandomForest\n",
    "y_train = y_train.ravel()\n",
    "clf1 = RandomForestClassifier(n_estimators=100)\n",
    "clf1.fit(X_train, y_train)\n",
    "y_pred1 = clf1.predict(X_test)\n",
    "\n",
    "from pandas_ml import ConfusionMatrix\n",
    "cm = ConfusionMatrix(y_test, y_pred1)\n",
    "cm.print_stats()\n",
    "#Root mean square error between actual and predicted class\n",
    "from sklearn.metrics import mean_squared_error\n",
    "from math import sqrt\n",
    "RMSE = sqrt(mean_squared_error(y_test, y_pred1))\n",
    "print(\"RMSE= \",RMSE)"
   ]
  },
  {
   "cell_type": "code",
   "execution_count": 15,
   "metadata": {},
   "outputs": [
    {
     "name": "stdout",
     "output_type": "stream",
     "text": [
      "population: 32596\n",
      "P: 18302\n",
      "N: 14294\n",
      "PositiveTest: 18344\n",
      "NegativeTest: 14252\n",
      "TP: 18286\n",
      "TN: 14236\n",
      "FP: 58\n",
      "FN: 16\n",
      "TPR: 0.9991257786034313\n",
      "TNR: 0.9959423534350077\n",
      "PPV: 0.9968382032272133\n",
      "NPV: 0.9988773505472917\n",
      "FPR: 0.0040576465649923045\n",
      "FDR: 0.0031617967727867423\n",
      "FNR: 0.000874221396568681\n",
      "ACC: 0.997729782795435\n",
      "F1_score: 0.9979806800196475\n",
      "MCC: 0.9953917902695483\n",
      "informedness: 0.9950681320384391\n",
      "markedness: 0.995715553774505\n",
      "prevalence: 0.5614799361884893\n",
      "LRP: 246.2328255061629\n",
      "LRN: 0.0008777831302720376\n",
      "DOR: 280516.6982758621\n",
      "FOR: 0.001122649452708392\n",
      "RMSE=  0.047646796372526216\n"
     ]
    }
   ],
   "source": [
    "# base classifier GradientBoosting\n",
    "clf2 = GradientBoostingClassifier(n_estimators=100)\n",
    "clf2.fit(X_train, y_train)\n",
    "y_pred2 = clf2.predict(X_test)\n",
    "\n",
    "from pandas_ml import ConfusionMatrix\n",
    "cm = ConfusionMatrix(y_test, y_pred2)\n",
    "cm.print_stats()\n",
    "#Root mean square error between actual and predicted class\n",
    "from sklearn.metrics import mean_squared_error\n",
    "from math import sqrt\n",
    "RMSE = sqrt(mean_squared_error(y_test, y_pred2))\n",
    "print(\"RMSE= \",RMSE)"
   ]
  },
  {
   "cell_type": "code",
   "execution_count": 16,
   "metadata": {},
   "outputs": [
    {
     "name": "stdout",
     "output_type": "stream",
     "text": [
      "population: 32596\n",
      "P: 18302\n",
      "N: 14294\n",
      "PositiveTest: 18869\n",
      "NegativeTest: 13727\n",
      "TP: 18160\n",
      "TN: 13585\n",
      "FP: 709\n",
      "FN: 142\n",
      "TPR: 0.992241285105453\n",
      "TNR: 0.9503987687141457\n",
      "PPV: 0.9624251417669193\n",
      "NPV: 0.9896554236176878\n",
      "FPR: 0.049601231285854204\n",
      "FDR: 0.03757485823308072\n",
      "FNR: 0.007758714894547044\n",
      "ACC: 0.9738925021475028\n",
      "F1_score: 0.9771058082914099\n",
      "MCC: 0.9473485501095887\n",
      "informedness: 0.9426400538195987\n",
      "markedness: 0.9520805653846072\n",
      "prevalence: 0.5614799361884893\n",
      "LRP: 20.00436802439682\n",
      "LRN: 0.008163641568101248\n",
      "DOR: 2450.422137905004\n",
      "FOR: 0.010344576382312232\n",
      "RMSE=  0.1615781478186244\n"
     ]
    }
   ],
   "source": [
    "# SVM\n",
    "from sklearn.svm import SVC  \n",
    "clf3= SVC(kernel='linear') \n",
    "clf3.fit(X_train, y_train) \n",
    "y_pred3 = clf3.predict(X_test)\n",
    "\n",
    "from pandas_ml import ConfusionMatrix\n",
    "cm = ConfusionMatrix(y_test, y_pred3)\n",
    "cm.print_stats()\n",
    "#Root mean square error between actual and predicted class\n",
    "from sklearn.metrics import mean_squared_error\n",
    "from math import sqrt\n",
    "RMSE = sqrt(mean_squared_error(y_test, y_pred3))\n",
    "print(\"RMSE= \",RMSE)"
   ]
  },
  {
   "cell_type": "code",
   "execution_count": 17,
   "metadata": {},
   "outputs": [
    {
     "name": "stdout",
     "output_type": "stream",
     "text": [
      "population: 32596\n",
      "P: 18302\n",
      "N: 14294\n",
      "PositiveTest: 18361\n",
      "NegativeTest: 14235\n",
      "TP: 18222\n",
      "TN: 14155\n",
      "FP: 139\n",
      "FN: 80\n",
      "TPR: 0.9956288930171566\n",
      "TNR: 0.9902756401287254\n",
      "PPV: 0.9924296062305975\n",
      "NPV: 0.9943800491745697\n",
      "FPR: 0.00972435987127466\n",
      "FDR: 0.007570393769402538\n",
      "FNR: 0.004371106982843405\n",
      "ACC: 0.9932813842189225\n",
      "F1_score: 0.9940266753948122\n",
      "MCC: 0.9863569904532943\n",
      "informedness: 0.985904533145882\n",
      "markedness: 0.9868096554051671\n",
      "prevalence: 0.5614799361884893\n",
      "LRP: 102.38503163156285\n",
      "LRN: 0.00441403060492855\n",
      "DOR: 23195.360611510794\n",
      "FOR: 0.005619950825430277\n",
      "RMSE=  0.08196716282193396\n"
     ]
    }
   ],
   "source": [
    "# KNN\n",
    "from sklearn.neighbors import KNeighborsClassifier\n",
    "clf4 = KNeighborsClassifier(n_neighbors = 17)\n",
    "clf4.fit(X_train, y_train) \n",
    "y_pred4 = clf4.predict(X_test)\n",
    "\n",
    "from pandas_ml import ConfusionMatrix\n",
    "cm = ConfusionMatrix(y_test, y_pred4)\n",
    "cm.print_stats()\n",
    "#Root mean square error between actual and predicted class\n",
    "from sklearn.metrics import mean_squared_error\n",
    "from math import sqrt\n",
    "RMSE = sqrt(mean_squared_error(y_test, y_pred4))\n",
    "print(\"RMSE= \",RMSE)"
   ]
  },
  {
   "cell_type": "code",
   "execution_count": 18,
   "metadata": {},
   "outputs": [],
   "source": [
    "# meta classifier LogisticRegression\n",
    "lr = LogisticRegression(solver='lbfgs')\n"
   ]
  },
  {
   "cell_type": "code",
   "execution_count": 19,
   "metadata": {},
   "outputs": [],
   "source": [
    "# stack esemble method \n",
    "from mlxtend.classifier import StackingClassifier\n",
    "sclf = StackingClassifier(classifiers=[clf1, clf2,clf4], \n",
    "                          meta_classifier=lr)"
   ]
  },
  {
   "cell_type": "code",
   "execution_count": 20,
   "metadata": {},
   "outputs": [
    {
     "name": "stdout",
     "output_type": "stream",
     "text": [
      "population: 32596\n",
      "P: 18302\n",
      "N: 14294\n",
      "PositiveTest: 18299\n",
      "NegativeTest: 14297\n",
      "TP: 18288\n",
      "TN: 14283\n",
      "FP: 11\n",
      "FN: 14\n",
      "TPR: 0.9992350562780024\n",
      "TNR: 0.9992304463411221\n",
      "PPV: 0.9993988742554238\n",
      "NPV: 0.9990207735888648\n",
      "FPR: 0.0007695536588778508\n",
      "FDR: 0.0006011257445762063\n",
      "FNR: 0.0007649437219975958\n",
      "ACC: 0.9992330347281875\n",
      "F1_score: 0.999316958553045\n",
      "MCC: 0.998442574968464\n",
      "informedness: 0.9984655026191245\n",
      "markedness: 0.9984196478442886\n",
      "prevalence: 0.5614799361884893\n",
      "LRP: 1298.4605358579788\n",
      "LRN: 0.0007655328405960678\n",
      "DOR: 1696152.6233766235\n",
      "FOR: 0.0009792264111352033\n",
      "RMSE=  0.027694137860068732\n"
     ]
    }
   ],
   "source": [
    "# train and test the model\n",
    "sclf.fit(X_train, y_train)\n",
    "y_pred = sclf.predict(X_test)\n",
    "\n",
    "from pandas_ml import ConfusionMatrix\n",
    "cm = ConfusionMatrix(y_test, y_pred)\n",
    "cm.print_stats()\n",
    "#Root mean square error between actual and predicted class\n",
    "from sklearn.metrics import mean_squared_error\n",
    "from math import sqrt\n",
    "RMSE = sqrt(mean_squared_error(y_test, y_pred))\n",
    "print(\"RMSE= \",RMSE)\n"
   ]
  },
  {
   "cell_type": "code",
   "execution_count": null,
   "metadata": {},
   "outputs": [],
   "source": []
  }
 ],
 "metadata": {
  "kernelspec": {
   "display_name": "Python 3",
   "language": "python",
   "name": "python3"
  },
  "language_info": {
   "codemirror_mode": {
    "name": "ipython",
    "version": 3
   },
   "file_extension": ".py",
   "mimetype": "text/x-python",
   "name": "python",
   "nbconvert_exporter": "python",
   "pygments_lexer": "ipython3",
   "version": "3.7.3"
  }
 },
 "nbformat": 4,
 "nbformat_minor": 2
}

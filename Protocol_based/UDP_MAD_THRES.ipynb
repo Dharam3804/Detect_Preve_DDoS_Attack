{
 "cells": [
  {
   "cell_type": "code",
   "execution_count": 1,
   "metadata": {},
   "outputs": [],
   "source": [
    "#importing libraries\n",
    "import numpy as np\n",
    "import pandas as pd \n",
    "import matplotlib.pyplot as plt\n",
    "import math"
   ]
  },
  {
   "cell_type": "code",
   "execution_count": 2,
   "metadata": {},
   "outputs": [
    {
     "name": "stdout",
     "output_type": "stream",
     "text": [
      "(13326, 42) (1787, 42)\n",
      "(15113, 42)\n",
      "[[0 'udp' 'private' ... 0 0.0 0]\n",
      " [0 'udp' 'private' ... 0 0.0 0]\n",
      " [0 'udp' 'private' ... 0 0.01 0]\n",
      " ...\n",
      " [0 'udp' 'private' ... 0 0.0 0]\n",
      " [0 'udp' 'domain_u' ... 0 0.0 0]\n",
      " [8 'udp' 'private' ... 0 0.0 0]]\n",
      "[['normal']\n",
      " ['normal']\n",
      " ['normal']\n",
      " ...\n",
      " ['DDoS']\n",
      " ['normal']\n",
      " ['normal']]\n"
     ]
    }
   ],
   "source": [
    "#load the NSL_KDD dataset\n",
    "train=pd.read_csv('dataset/Train_UDP1.csv')\n",
    "test=pd.read_csv('dataset/Test_UDP1.csv')\n",
    "\n",
    "#size of train and test data\n",
    "print(train.shape,test.shape)\n",
    "\n",
    "# concatenate traina and test data\n",
    "dataset=pd.concat([test,train])\n",
    "\n",
    "#size of whole dataset\n",
    "print(dataset.shape)\n",
    "\n",
    "#print(dataset.head(2))\n",
    "#print(dataset.columns)\n",
    "X = dataset.iloc[:, :-1].values\n",
    "print(X)\n",
    "y = dataset.iloc[:, 41:42].values\n",
    "print(y)"
   ]
  },
  {
   "cell_type": "code",
   "execution_count": 3,
   "metadata": {},
   "outputs": [
    {
     "name": "stdout",
     "output_type": "stream",
     "text": [
      "[[1.0 0.0 0.0 ... 0 0.0 0]\n",
      " [1.0 0.0 0.0 ... 0 0.0 0]\n",
      " [1.0 0.0 0.0 ... 0 0.01 0]\n",
      " ...\n",
      " [1.0 0.0 0.0 ... 0 0.0 0]\n",
      " [1.0 1.0 0.0 ... 0 0.0 0]\n",
      " [1.0 0.0 0.0 ... 0 0.0 0]]\n"
     ]
    }
   ],
   "source": [
    "#Encoding of dataset\n",
    "from sklearn.compose import ColumnTransformer\n",
    "from sklearn.preprocessing import OneHotEncoder\n",
    "ct = ColumnTransformer(transformers = [('encoder', OneHotEncoder(), [1, 2, 3])], remainder = 'passthrough')\n",
    "X= ct.fit_transform(X)\n",
    "print(X)"
   ]
  },
  {
   "cell_type": "code",
   "execution_count": 4,
   "metadata": {},
   "outputs": [
    {
     "name": "stdout",
     "output_type": "stream",
     "text": [
      "[1 1 1 ... 0 1 1]\n"
     ]
    }
   ],
   "source": [
    "from sklearn.preprocessing import LabelEncoder\n",
    "le_y = LabelEncoder()\n",
    "y[:, 0] = le_y.fit_transform(y[:, 0])\n",
    "y= y.astype(int)\n",
    "y = y.ravel()\n",
    "print(y)"
   ]
  },
  {
   "cell_type": "code",
   "execution_count": 5,
   "metadata": {},
   "outputs": [
    {
     "name": "stdout",
     "output_type": "stream",
     "text": [
      "[[0.         0.         0.         ... 0.         0.         0.        ]\n",
      " [0.         0.         0.         ... 0.         0.         0.        ]\n",
      " [0.         0.         0.         ... 0.         0.01020408 0.        ]\n",
      " ...\n",
      " [0.         0.         0.         ... 0.         0.         0.        ]\n",
      " [0.         1.         0.         ... 0.         0.         0.        ]\n",
      " [0.         0.         0.         ... 0.         0.         0.        ]]\n"
     ]
    }
   ],
   "source": [
    "# min_max normalisation between (a,b)\n",
    "from sklearn.preprocessing import minmax_scale\n",
    "X = minmax_scale(X, feature_range=(0,1), axis=0)\n",
    "print(X)"
   ]
  },
  {
   "cell_type": "code",
   "execution_count": 6,
   "metadata": {},
   "outputs": [],
   "source": [
    "# function to calculate shannon entropy\n",
    "def cal_entropy(column):\n",
    "   counts=np.bincount(column)\n",
    "   probabilites=counts / len(column)\n",
    "   entropy=0\n",
    "   for prob in probabilites:\n",
    "      if(prob)>0:\n",
    "        entropy+=prob*math.log(prob,2)\n",
    "   return -entropy "
   ]
  },
  {
   "cell_type": "code",
   "execution_count": 7,
   "metadata": {},
   "outputs": [],
   "source": [
    "# function to calculte MAD adaptive threshold technique\n",
    "def thres_MAD(data):\n",
    "  a=3\n",
    "  from numpy import mean, absolute\n",
    "  MAD =mean(absolute(data - mean(data)))\n",
    "  thres= mean(data)+a*MAD\n",
    "  return thres"
   ]
  },
  {
   "cell_type": "code",
   "execution_count": 8,
   "metadata": {},
   "outputs": [
    {
     "name": "stdout",
     "output_type": "stream",
     "text": [
      "(15113, 45) (15113,)\n"
     ]
    }
   ],
   "source": [
    "print(X.shape,y.shape)"
   ]
  },
  {
   "cell_type": "code",
   "execution_count": 9,
   "metadata": {},
   "outputs": [
    {
     "name": "stdout",
     "output_type": "stream",
     "text": [
      "[1, 3, 4, 11, 32, 34, 35, 36, 37, 39]\n"
     ]
    }
   ],
   "source": [
    "# form a list of attribute that has to deleted further\n",
    "list=[]\n",
    "for j in range(0,45):\n",
    "   col=np.array(X[:,j])\n",
    "   col=col.astype(int)\n",
    "   if  cal_entropy(col)<thres_MAD(col):\n",
    "           list.append(j)\n",
    "\n",
    "\n",
    "print(list)"
   ]
  },
  {
   "cell_type": "code",
   "execution_count": 10,
   "metadata": {},
   "outputs": [],
   "source": [
    "# delete the attribute that have less entropy than adaptive threshold value(THR)\n",
    "X = np.delete(X, list, axis=1)"
   ]
  },
  {
   "cell_type": "code",
   "execution_count": 11,
   "metadata": {},
   "outputs": [
    {
     "name": "stdout",
     "output_type": "stream",
     "text": [
      "(15113, 35)\n"
     ]
    }
   ],
   "source": [
    "print(X.shape)"
   ]
  },
  {
   "cell_type": "code",
   "execution_count": 12,
   "metadata": {},
   "outputs": [
    {
     "name": "stdout",
     "output_type": "stream",
     "text": [
      "[[0. 0. 0. ... 0. 0. 0.]\n",
      " [0. 0. 0. ... 0. 0. 0.]\n",
      " [0. 0. 0. ... 0. 0. 0.]\n",
      " ...\n",
      " [0. 0. 0. ... 0. 0. 0.]\n",
      " [0. 0. 0. ... 0. 0. 0.]\n",
      " [0. 0. 0. ... 0. 0. 0.]]\n",
      "[[0.         0.         0.         ... 0.         0.         0.        ]\n",
      " [0.         0.         0.         ... 0.         0.         0.        ]\n",
      " [0.         0.         0.         ... 0.         0.46938776 0.        ]\n",
      " ...\n",
      " [0.         0.         0.         ... 0.         0.         0.        ]\n",
      " [0.         0.         0.         ... 0.         0.         0.        ]\n",
      " [0.         0.         0.         ... 0.         0.         0.        ]]\n",
      "[1 1 1 ... 1 1 1]\n",
      "[1 1 0 ... 1 1 0]\n"
     ]
    }
   ],
   "source": [
    "# splitting of dataset in train and test\n",
    "from sklearn.model_selection import train_test_split\n",
    "X_train, X_test, y_train, y_test = train_test_split(X, y, test_size = 0.3, random_state = 1)\n",
    "print(X_train)\n",
    "print(X_test)\n",
    "print(y_train)\n",
    "print(y_test)\n"
   ]
  },
  {
   "cell_type": "code",
   "execution_count": 13,
   "metadata": {},
   "outputs": [],
   "source": [
    "from sklearn.ensemble import RandomForestClassifier,GradientBoostingClassifier\n",
    "from sklearn.linear_model import LogisticRegression"
   ]
  },
  {
   "cell_type": "code",
   "execution_count": 14,
   "metadata": {},
   "outputs": [
    {
     "name": "stdout",
     "output_type": "stream",
     "text": [
      "population: 4534\n",
      "P: 4232\n",
      "N: 302\n",
      "PositiveTest: 4226\n",
      "NegativeTest: 308\n",
      "TP: 4224\n",
      "TN: 300\n",
      "FP: 2\n",
      "FN: 8\n",
      "TPR: 0.998109640831758\n",
      "TNR: 0.9933774834437086\n",
      "PPV: 0.9995267392333176\n",
      "NPV: 0.974025974025974\n",
      "FPR: 0.006622516556291391\n",
      "FDR: 0.000473260766682442\n",
      "FNR: 0.001890359168241966\n",
      "ACC: 0.9977944419938244\n",
      "F1_score: 0.9988176873965476\n",
      "MCC: 0.9824789972310009\n",
      "informedness: 0.9914871242754666\n",
      "markedness: 0.9735527132592916\n",
      "prevalence: 0.933392148213498\n",
      "LRP: 150.71455576559546\n",
      "LRN: 0.0019029615626969126\n",
      "DOR: 79199.99999999999\n",
      "FOR: 0.025974025974025976\n",
      "RMSE=  0.04696336876945224\n"
     ]
    }
   ],
   "source": [
    "# base classifier RandomForest\n",
    "y_train = y_train.ravel()\n",
    "clf1 = RandomForestClassifier(n_estimators=100)\n",
    "clf1.fit(X_train, y_train)\n",
    "y_pred1 = clf1.predict(X_test)\n",
    "\n",
    "from pandas_ml import ConfusionMatrix\n",
    "cm = ConfusionMatrix(y_test, y_pred1)\n",
    "cm.print_stats()\n",
    "#Root mean square error between actual and predicted class\n",
    "from sklearn.metrics import mean_squared_error\n",
    "from math import sqrt\n",
    "RMSE = sqrt(mean_squared_error(y_test, y_pred1))\n",
    "print(\"RMSE= \",RMSE)"
   ]
  },
  {
   "cell_type": "code",
   "execution_count": 15,
   "metadata": {},
   "outputs": [
    {
     "name": "stdout",
     "output_type": "stream",
     "text": [
      "population: 4534\n",
      "P: 4232\n",
      "N: 302\n",
      "PositiveTest: 4228\n",
      "NegativeTest: 306\n",
      "TP: 4226\n",
      "TN: 300\n",
      "FP: 2\n",
      "FN: 6\n",
      "TPR: 0.9985822306238186\n",
      "TNR: 0.9933774834437086\n",
      "PPV: 0.9995269631031221\n",
      "NPV: 0.9803921568627451\n",
      "FPR: 0.006622516556291391\n",
      "FDR: 0.0004730368968779565\n",
      "FNR: 0.0014177693761814746\n",
      "ACC: 0.9982355535950596\n",
      "F1_score: 0.9990543735224586\n",
      "MCC: 0.9859210364175441\n",
      "informedness: 0.9919597140675271\n",
      "markedness: 0.9799191199658672\n",
      "prevalence: 0.933392148213498\n",
      "LRP: 150.7859168241966\n",
      "LRN: 0.0014272211720226845\n",
      "DOR: 105649.99999999999\n",
      "FOR: 0.0196078431372549\n",
      "RMSE=  0.04200531400835435\n"
     ]
    }
   ],
   "source": [
    "# base classifier GradientBoosting\n",
    "clf2 = GradientBoostingClassifier(n_estimators=100)\n",
    "clf2.fit(X_train, y_train)\n",
    "y_pred2 = clf2.predict(X_test)\n",
    "\n",
    "from pandas_ml import ConfusionMatrix\n",
    "cm = ConfusionMatrix(y_test, y_pred2)\n",
    "cm.print_stats()\n",
    "#Root mean square error between actual and predicted class\n",
    "from sklearn.metrics import mean_squared_error\n",
    "from math import sqrt\n",
    "RMSE = sqrt(mean_squared_error(y_test, y_pred2))\n",
    "print(\"RMSE= \",RMSE)"
   ]
  },
  {
   "cell_type": "code",
   "execution_count": 16,
   "metadata": {},
   "outputs": [
    {
     "name": "stdout",
     "output_type": "stream",
     "text": [
      "population: 4534\n",
      "P: 4232\n",
      "N: 302\n",
      "PositiveTest: 4416\n",
      "NegativeTest: 118\n",
      "TP: 4226\n",
      "TN: 112\n",
      "FP: 190\n",
      "FN: 6\n",
      "TPR: 0.9985822306238186\n",
      "TNR: 0.3708609271523179\n",
      "PPV: 0.9569746376811594\n",
      "NPV: 0.9491525423728814\n",
      "FPR: 0.6291390728476821\n",
      "FDR: 0.043025362318840576\n",
      "FNR: 0.0014177693761814746\n",
      "ACC: 0.956771063078959\n",
      "F1_score: 0.9773358001850139\n",
      "MCC: 0.5785866285578596\n",
      "informedness: 0.36944315777613657\n",
      "markedness: 0.9061271800540407\n",
      "prevalence: 0.933392148213498\n",
      "LRP: 1.5872201770968064\n",
      "LRN: 0.0038229138536321904\n",
      "DOR: 415.1859649122807\n",
      "FOR: 0.05084745762711865\n",
      "RMSE=  0.20791569666824347\n"
     ]
    }
   ],
   "source": [
    "# SVM\n",
    "from sklearn.svm import SVC  \n",
    "clf3= SVC(kernel='linear') \n",
    "clf3.fit(X_train, y_train) \n",
    "y_pred3 = clf3.predict(X_test)\n",
    "\n",
    "from pandas_ml import ConfusionMatrix\n",
    "cm = ConfusionMatrix(y_test, y_pred3)\n",
    "cm.print_stats()\n",
    "#Root mean square error between actual and predicted class\n",
    "from sklearn.metrics import mean_squared_error\n",
    "from math import sqrt\n",
    "RMSE = sqrt(mean_squared_error(y_test, y_pred3))\n",
    "print(\"RMSE= \",RMSE)"
   ]
  },
  {
   "cell_type": "code",
   "execution_count": 17,
   "metadata": {},
   "outputs": [
    {
     "name": "stdout",
     "output_type": "stream",
     "text": [
      "population: 4534\n",
      "P: 4232\n",
      "N: 302\n",
      "PositiveTest: 4227\n",
      "NegativeTest: 307\n",
      "TP: 4216\n",
      "TN: 291\n",
      "FP: 11\n",
      "FN: 16\n",
      "TPR: 0.996219281663516\n",
      "TNR: 0.9635761589403974\n",
      "PPV: 0.9973976815708541\n",
      "NPV: 0.9478827361563518\n",
      "FPR: 0.03642384105960265\n",
      "FDR: 0.0026023184291459663\n",
      "FNR: 0.003780718336483932\n",
      "ACC: 0.994044993383326\n",
      "F1_score: 0.9968081333490957\n",
      "MCC: 0.9525102807984461\n",
      "informedness: 0.9597954406039135\n",
      "markedness: 0.9452804177272058\n",
      "prevalence: 0.933392148213498\n",
      "LRP: 27.35074755112562\n",
      "LRN: 0.003923632088034871\n",
      "DOR: 6970.772727272727\n",
      "FOR: 0.05211726384364821\n",
      "RMSE=  0.07716868935438789\n"
     ]
    }
   ],
   "source": [
    "# KNN\n",
    "from sklearn.neighbors import KNeighborsClassifier\n",
    "clf4 = KNeighborsClassifier(n_neighbors = 17)\n",
    "clf4.fit(X_train, y_train) \n",
    "y_pred4 = clf4.predict(X_test)\n",
    "\n",
    "from pandas_ml import ConfusionMatrix\n",
    "cm = ConfusionMatrix(y_test, y_pred4)\n",
    "cm.print_stats()\n",
    "#Root mean square error between actual and predicted class\n",
    "from sklearn.metrics import mean_squared_error\n",
    "from math import sqrt\n",
    "RMSE = sqrt(mean_squared_error(y_test, y_pred4))\n",
    "print(\"RMSE= \",RMSE)"
   ]
  },
  {
   "cell_type": "code",
   "execution_count": 18,
   "metadata": {},
   "outputs": [],
   "source": [
    "# meta classifier LogisticRegression\n",
    "lr = LogisticRegression(solver='lbfgs')\n"
   ]
  },
  {
   "cell_type": "code",
   "execution_count": 19,
   "metadata": {},
   "outputs": [],
   "source": [
    "# stack esemble method \n",
    "from mlxtend.classifier import StackingClassifier\n",
    "sclf = StackingClassifier(classifiers=[clf1, clf2,clf4], \n",
    "                          meta_classifier=lr)"
   ]
  },
  {
   "cell_type": "code",
   "execution_count": 20,
   "metadata": {},
   "outputs": [
    {
     "name": "stdout",
     "output_type": "stream",
     "text": [
      "population: 4534\n",
      "P: 4232\n",
      "N: 302\n",
      "PositiveTest: 4229\n",
      "NegativeTest: 305\n",
      "TP: 4226\n",
      "TN: 299\n",
      "FP: 3\n",
      "FN: 6\n",
      "TPR: 0.9985822306238186\n",
      "TNR: 0.9900662251655629\n",
      "PPV: 0.9992906124379286\n",
      "NPV: 0.980327868852459\n",
      "FPR: 0.009933774834437087\n",
      "FDR: 0.0007093875620714117\n",
      "FNR: 0.0014177693761814746\n",
      "ACC: 0.998014997794442\n",
      "F1_score: 0.9989362959461057\n",
      "MCC: 0.9841231116026494\n",
      "informedness: 0.9886484557893813\n",
      "markedness: 0.9796184812903876\n",
      "prevalence: 0.933392148213498\n",
      "LRP: 100.5239445494644\n",
      "LRN: 0.001431994486979282\n",
      "DOR: 70198.55555555555\n",
      "FOR: 0.019672131147540985\n",
      "RMSE=  0.04455336357176645\n"
     ]
    }
   ],
   "source": [
    "# train and test the model\n",
    "sclf.fit(X_train, y_train)\n",
    "y_pred = sclf.predict(X_test)\n",
    "\n",
    "from pandas_ml import ConfusionMatrix\n",
    "cm = ConfusionMatrix(y_test, y_pred)\n",
    "cm.print_stats()\n",
    "#Root mean square error between actual and predicted class\n",
    "from sklearn.metrics import mean_squared_error\n",
    "from math import sqrt\n",
    "RMSE = sqrt(mean_squared_error(y_test, y_pred))\n",
    "print(\"RMSE= \",RMSE)\n"
   ]
  },
  {
   "cell_type": "code",
   "execution_count": null,
   "metadata": {},
   "outputs": [],
   "source": []
  }
 ],
 "metadata": {
  "kernelspec": {
   "display_name": "Python 3",
   "language": "python",
   "name": "python3"
  },
  "language_info": {
   "codemirror_mode": {
    "name": "ipython",
    "version": 3
   },
   "file_extension": ".py",
   "mimetype": "text/x-python",
   "name": "python",
   "nbconvert_exporter": "python",
   "pygments_lexer": "ipython3",
   "version": "3.7.3"
  }
 },
 "nbformat": 4,
 "nbformat_minor": 2
}

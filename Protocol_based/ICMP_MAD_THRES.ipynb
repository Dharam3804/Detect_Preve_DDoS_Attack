{
 "cells": [
  {
   "cell_type": "code",
   "execution_count": 1,
   "metadata": {},
   "outputs": [],
   "source": [
    "#importing libraries\n",
    "import numpy as np\n",
    "import pandas as pd \n",
    "import matplotlib.pyplot as plt\n",
    "import math"
   ]
  },
  {
   "cell_type": "code",
   "execution_count": 2,
   "metadata": {},
   "outputs": [
    {
     "name": "stdout",
     "output_type": "stream",
     "text": [
      "(4156, 42) (15451, 42)\n",
      "(19607, 42)\n",
      "[[0 'tcp' 'private' ... 0.0 1.0 1.0]\n",
      " [0 'tcp' 'private' ... 0.0 1.0 1.0]\n",
      " [2 'tcp' 'ftp_data' ... 0.0 0.0 0.0]\n",
      " ...\n",
      " [0 'icmp' 'eco_i' ... 0.0 0.0 0.0]\n",
      " [0 'icmp' 'ecr_i' ... 0.0 0.0 0.0]\n",
      " [0 'icmp' 'eco_i' ... 0.0 0.0 0.0]]\n",
      "[['DDoS']\n",
      " ['DDoS']\n",
      " ['normal']\n",
      " ...\n",
      " ['normal']\n",
      " ['normal']\n",
      " ['normal']]\n"
     ]
    }
   ],
   "source": [
    "#load the NSL_KDD dataset\n",
    "train=pd.read_csv('dataset/Train_ICMP1.csv')\n",
    "test=pd.read_csv('dataset/Test_ICMP1.csv')\n",
    "\n",
    "#size of train and test data\n",
    "print(train.shape,test.shape)\n",
    "\n",
    "# concatenate traina and test data\n",
    "dataset=pd.concat([test,train])\n",
    "\n",
    "#size of whole dataset\n",
    "print(dataset.shape)\n",
    "\n",
    "#print(dataset.head(2))\n",
    "#print(dataset.columns)\n",
    "X = dataset.iloc[:, :-1].values\n",
    "print(X)\n",
    "y = dataset.iloc[:, 41:42].values\n",
    "print(y)"
   ]
  },
  {
   "cell_type": "code",
   "execution_count": 3,
   "metadata": {},
   "outputs": [
    {
     "name": "stdout",
     "output_type": "stream",
     "text": [
      "[[0.0 1.0 0.0 ... 0.0 1.0 1.0]\n",
      " [0.0 1.0 0.0 ... 0.0 1.0 1.0]\n",
      " [0.0 1.0 0.0 ... 0.0 0.0 0.0]\n",
      " ...\n",
      " [1.0 0.0 0.0 ... 0.0 0.0 0.0]\n",
      " [1.0 0.0 0.0 ... 0.0 0.0 0.0]\n",
      " [1.0 0.0 0.0 ... 0.0 0.0 0.0]]\n"
     ]
    }
   ],
   "source": [
    "#Encoding of dataset\n",
    "from sklearn.compose import ColumnTransformer\n",
    "from sklearn.preprocessing import OneHotEncoder\n",
    "ct = ColumnTransformer(transformers = [('encoder', OneHotEncoder(), [1, 2, 3])], remainder = 'passthrough')\n",
    "X= ct.fit_transform(X)\n",
    "print(X)"
   ]
  },
  {
   "cell_type": "code",
   "execution_count": 4,
   "metadata": {},
   "outputs": [
    {
     "name": "stdout",
     "output_type": "stream",
     "text": [
      "[0 0 1 ... 1 1 1]\n"
     ]
    }
   ],
   "source": [
    "from sklearn.preprocessing import LabelEncoder\n",
    "le_y = LabelEncoder()\n",
    "y[:, 0] = le_y.fit_transform(y[:, 0])\n",
    "y= y.astype(int)\n",
    "y = y.ravel()\n",
    "print(y)"
   ]
  },
  {
   "cell_type": "code",
   "execution_count": 5,
   "metadata": {},
   "outputs": [
    {
     "name": "stdout",
     "output_type": "stream",
     "text": [
      "[[0. 1. 0. ... 0. 1. 1.]\n",
      " [0. 1. 0. ... 0. 1. 1.]\n",
      " [0. 1. 0. ... 0. 0. 0.]\n",
      " ...\n",
      " [1. 0. 0. ... 0. 0. 0.]\n",
      " [1. 0. 0. ... 0. 0. 0.]\n",
      " [1. 0. 0. ... 0. 0. 0.]]\n"
     ]
    }
   ],
   "source": [
    "# min_max normalisation between (a,b)\n",
    "from sklearn.preprocessing import minmax_scale\n",
    "X = minmax_scale(X, feature_range=(0,1), axis=0)\n",
    "print(X)"
   ]
  },
  {
   "cell_type": "code",
   "execution_count": 6,
   "metadata": {},
   "outputs": [],
   "source": [
    "# function to calculate shannon entropy\n",
    "def cal_entropy(column):\n",
    "   counts=np.bincount(column)\n",
    "   probabilites=counts / len(column)\n",
    "   entropy=0\n",
    "   for prob in probabilites:\n",
    "      if(prob)>0:\n",
    "        entropy+=prob*math.log(prob,2)\n",
    "   return -entropy "
   ]
  },
  {
   "cell_type": "code",
   "execution_count": 7,
   "metadata": {},
   "outputs": [],
   "source": [
    "# function to calculte MAD adaptive threshold technique\n",
    "def thres_MAD(data):\n",
    "  a=3\n",
    "  from numpy import mean, absolute\n",
    "  MAD =mean(absolute(data - mean(data)))\n",
    "  thres= mean(data)+a*MAD\n",
    "  return thres"
   ]
  },
  {
   "cell_type": "code",
   "execution_count": 8,
   "metadata": {},
   "outputs": [
    {
     "name": "stdout",
     "output_type": "stream",
     "text": [
      "(19607, 114) (19607,)\n"
     ]
    }
   ],
   "source": [
    "print(X.shape,y.shape)"
   ]
  },
  {
   "cell_type": "code",
   "execution_count": 9,
   "metadata": {},
   "outputs": [
    {
     "name": "stdout",
     "output_type": "stream",
     "text": [
      "[0, 1, 2, 14, 16, 17, 25, 47, 52, 62, 67, 71, 75, 84, 95, 96, 97, 98, 99, 100, 101, 103, 104, 105, 106, 108, 110, 111, 112, 113]\n"
     ]
    }
   ],
   "source": [
    "# form a list of attribute that has to deleted further\n",
    "list=[]\n",
    "for j in range(0,114):\n",
    "   col=np.array(X[:,j])\n",
    "   col=col.astype(int)\n",
    "   if  cal_entropy(col)<thres_MAD(col):\n",
    "           list.append(j)\n",
    "\n",
    "\n",
    "print(list)"
   ]
  },
  {
   "cell_type": "code",
   "execution_count": 10,
   "metadata": {},
   "outputs": [],
   "source": [
    "# delete the attribute that have less entropy than adaptive threshold value(THR)\n",
    "X = np.delete(X, list, axis=1)"
   ]
  },
  {
   "cell_type": "code",
   "execution_count": 11,
   "metadata": {},
   "outputs": [
    {
     "name": "stdout",
     "output_type": "stream",
     "text": [
      "(19607, 84)\n"
     ]
    }
   ],
   "source": [
    "print(X.shape)"
   ]
  },
  {
   "cell_type": "code",
   "execution_count": 12,
   "metadata": {},
   "outputs": [
    {
     "name": "stdout",
     "output_type": "stream",
     "text": [
      "[[0.   0.   0.   ... 0.   0.03 0.  ]\n",
      " [0.   0.   0.   ... 0.   0.   0.  ]\n",
      " [0.   0.   0.   ... 0.39 0.73 0.  ]\n",
      " ...\n",
      " [0.   0.   0.   ... 0.   0.   0.06]\n",
      " [0.   0.   0.   ... 0.02 0.01 0.  ]\n",
      " [0.   0.   0.   ... 0.   0.   0.  ]]\n",
      "[[0.   0.   0.   ... 0.05 0.05 0.  ]\n",
      " [0.   0.   0.   ... 0.   0.   0.04]\n",
      " [0.   0.   0.   ... 0.1  0.51 0.  ]\n",
      " ...\n",
      " [0.   0.   0.   ... 0.   0.06 0.  ]\n",
      " [0.   0.   0.   ... 0.07 0.07 0.  ]\n",
      " [0.   0.   0.   ... 0.   0.   0.04]]\n",
      "[0 1 1 ... 1 1 0]\n",
      "[0 1 0 ... 0 0 1]\n"
     ]
    }
   ],
   "source": [
    "# splitting of dataset in train and test\n",
    "from sklearn.model_selection import train_test_split\n",
    "X_train, X_test, y_train, y_test = train_test_split(X, y, test_size = 0.3, random_state = 1)\n",
    "print(X_train)\n",
    "print(X_test)\n",
    "print(y_train)\n",
    "print(y_test)\n"
   ]
  },
  {
   "cell_type": "code",
   "execution_count": 13,
   "metadata": {},
   "outputs": [],
   "source": [
    "from sklearn.ensemble import RandomForestClassifier,GradientBoostingClassifier\n",
    "from sklearn.linear_model import LogisticRegression"
   ]
  },
  {
   "cell_type": "code",
   "execution_count": 14,
   "metadata": {},
   "outputs": [
    {
     "name": "stdout",
     "output_type": "stream",
     "text": [
      "population: 5883\n",
      "P: 3324\n",
      "N: 2559\n",
      "PositiveTest: 3321\n",
      "NegativeTest: 2562\n",
      "TP: 3315\n",
      "TN: 2553\n",
      "FP: 6\n",
      "FN: 9\n",
      "TPR: 0.9972924187725631\n",
      "TNR: 0.9976553341148886\n",
      "PPV: 0.998193315266486\n",
      "NPV: 0.9964871194379391\n",
      "FPR: 0.0023446658851113715\n",
      "FDR: 0.0018066847335140017\n",
      "FNR: 0.002707581227436823\n",
      "ACC: 0.9974502804691484\n",
      "F1_score: 0.9977426636568849\n",
      "MCC: 0.9948140848169982\n",
      "informedness: 0.9949477528874517\n",
      "markedness: 0.9946804347044251\n",
      "prevalence: 0.565017848036716\n",
      "LRP: 425.3452166064982\n",
      "LRN: 0.0027139445205682845\n",
      "DOR: 156725.83333333334\n",
      "FOR: 0.00351288056206089\n",
      "RMSE=  0.05049474755706386\n"
     ]
    }
   ],
   "source": [
    "# base classifier RandomForest\n",
    "y_train = y_train.ravel()\n",
    "clf1 = RandomForestClassifier(n_estimators=100)\n",
    "clf1.fit(X_train, y_train)\n",
    "y_pred1 = clf1.predict(X_test)\n",
    "\n",
    "from pandas_ml import ConfusionMatrix\n",
    "cm = ConfusionMatrix(y_test, y_pred1)\n",
    "cm.print_stats()\n",
    "#Root mean square error between actual and predicted class\n",
    "from sklearn.metrics import mean_squared_error\n",
    "from math import sqrt\n",
    "RMSE = sqrt(mean_squared_error(y_test, y_pred1))\n",
    "print(\"RMSE= \",RMSE)"
   ]
  },
  {
   "cell_type": "code",
   "execution_count": 15,
   "metadata": {},
   "outputs": [
    {
     "name": "stdout",
     "output_type": "stream",
     "text": [
      "population: 5883\n",
      "P: 3324\n",
      "N: 2559\n",
      "PositiveTest: 3320\n",
      "NegativeTest: 2563\n",
      "TP: 3313\n",
      "TN: 2552\n",
      "FP: 7\n",
      "FN: 11\n",
      "TPR: 0.996690734055355\n",
      "TNR: 0.9972645564673701\n",
      "PPV: 0.9978915662650603\n",
      "NPV: 0.9957081545064378\n",
      "FPR: 0.0027354435326299334\n",
      "FDR: 0.002108433734939759\n",
      "FNR: 0.003309265944645006\n",
      "ACC: 0.9969403365629781\n",
      "F1_score: 0.9972907886815171\n",
      "MCC: 0.993777489744426\n",
      "informedness: 0.9939552905227251\n",
      "markedness: 0.9935997207714982\n",
      "prevalence: 0.565017848036716\n",
      "LRP: 364.36165549252195\n",
      "LRN: 0.0033183430847753014\n",
      "DOR: 109802.28571428574\n",
      "FOR: 0.004291845493562232\n",
      "RMSE=  0.05531422454506551\n"
     ]
    }
   ],
   "source": [
    "# base classifier GradientBoosting\n",
    "clf2 = GradientBoostingClassifier(n_estimators=100)\n",
    "clf2.fit(X_train, y_train)\n",
    "y_pred2 = clf2.predict(X_test)\n",
    "\n",
    "from pandas_ml import ConfusionMatrix\n",
    "cm = ConfusionMatrix(y_test, y_pred2)\n",
    "cm.print_stats()\n",
    "#Root mean square error between actual and predicted class\n",
    "from sklearn.metrics import mean_squared_error\n",
    "from math import sqrt\n",
    "RMSE = sqrt(mean_squared_error(y_test, y_pred2))\n",
    "print(\"RMSE= \",RMSE)"
   ]
  },
  {
   "cell_type": "code",
   "execution_count": 16,
   "metadata": {},
   "outputs": [
    {
     "name": "stdout",
     "output_type": "stream",
     "text": [
      "population: 5883\n",
      "P: 3324\n",
      "N: 2559\n",
      "PositiveTest: 4897\n",
      "NegativeTest: 986\n",
      "TP: 3165\n",
      "TN: 827\n",
      "FP: 1732\n",
      "FN: 159\n",
      "TPR: 0.9521660649819494\n",
      "TNR: 0.32317311449785074\n",
      "PPV: 0.6463140698386768\n",
      "NPV: 0.8387423935091278\n",
      "FPR: 0.6768268855021493\n",
      "FDR: 0.35368593016132327\n",
      "FNR: 0.04783393501805054\n",
      "ACC: 0.6785653578106409\n",
      "F1_score: 0.7699793212504561\n",
      "MCC: 0.3654518417241296\n",
      "informedness: 0.27533917947980013\n",
      "markedness: 0.4850564633478047\n",
      "prevalence: 0.565017848036716\n",
      "LRP: 1.4068088685270257\n",
      "LRN: 0.14801334910664005\n",
      "DOR: 9.504608043923483\n",
      "FOR: 0.1612576064908722\n",
      "RMSE=  0.5669520633963326\n"
     ]
    }
   ],
   "source": [
    "# SVM\n",
    "from sklearn.svm import SVC  \n",
    "clf3= SVC(kernel='linear') \n",
    "clf3.fit(X_train, y_train) \n",
    "y_pred3 = clf3.predict(X_test)\n",
    "\n",
    "from pandas_ml import ConfusionMatrix\n",
    "cm = ConfusionMatrix(y_test, y_pred3)\n",
    "cm.print_stats()\n",
    "#Root mean square error between actual and predicted class\n",
    "from sklearn.metrics import mean_squared_error\n",
    "from math import sqrt\n",
    "RMSE = sqrt(mean_squared_error(y_test, y_pred3))\n",
    "print(\"RMSE= \",RMSE)"
   ]
  },
  {
   "cell_type": "code",
   "execution_count": 17,
   "metadata": {},
   "outputs": [
    {
     "name": "stdout",
     "output_type": "stream",
     "text": [
      "population: 5883\n",
      "P: 3324\n",
      "N: 2559\n",
      "PositiveTest: 3279\n",
      "NegativeTest: 2604\n",
      "TP: 3250\n",
      "TN: 2530\n",
      "FP: 29\n",
      "FN: 74\n",
      "TPR: 0.9777376654632972\n",
      "TNR: 0.9886674482219617\n",
      "PPV: 0.9911558401951814\n",
      "NPV: 0.9715821812596006\n",
      "FPR: 0.011332551778038297\n",
      "FDR: 0.008844159804818542\n",
      "FNR: 0.022262334536702767\n",
      "ACC: 0.9824919258881523\n",
      "F1_score: 0.9844010298349235\n",
      "MCC: 0.9645698248821232\n",
      "informedness: 0.9664051136852589\n",
      "markedness: 0.962738021454782\n",
      "prevalence: 0.565017848036716\n",
      "LRP: 86.27692020415785\n",
      "LRN: 0.022517515446412006\n",
      "DOR: 3831.547064305685\n",
      "FOR: 0.028417818740399385\n",
      "RMSE=  0.13231807930833828\n"
     ]
    }
   ],
   "source": [
    "# KNN\n",
    "from sklearn.neighbors import KNeighborsClassifier\n",
    "clf4 = KNeighborsClassifier(n_neighbors = 17)\n",
    "clf4.fit(X_train, y_train) \n",
    "y_pred4 = clf4.predict(X_test)\n",
    "\n",
    "from pandas_ml import ConfusionMatrix\n",
    "cm = ConfusionMatrix(y_test, y_pred4)\n",
    "cm.print_stats()\n",
    "#Root mean square error between actual and predicted class\n",
    "from sklearn.metrics import mean_squared_error\n",
    "from math import sqrt\n",
    "RMSE = sqrt(mean_squared_error(y_test, y_pred4))\n",
    "print(\"RMSE= \",RMSE)"
   ]
  },
  {
   "cell_type": "code",
   "execution_count": 18,
   "metadata": {},
   "outputs": [],
   "source": [
    "# meta classifier LogisticRegression\n",
    "lr = LogisticRegression(solver='lbfgs')\n"
   ]
  },
  {
   "cell_type": "code",
   "execution_count": 19,
   "metadata": {},
   "outputs": [],
   "source": [
    "# stack esemble method \n",
    "from mlxtend.classifier import StackingClassifier\n",
    "sclf = StackingClassifier(classifiers=[clf1, clf2,clf4], \n",
    "                          meta_classifier=lr)"
   ]
  },
  {
   "cell_type": "code",
   "execution_count": 20,
   "metadata": {},
   "outputs": [
    {
     "name": "stdout",
     "output_type": "stream",
     "text": [
      "population: 5883\n",
      "P: 3324\n",
      "N: 2559\n",
      "PositiveTest: 3322\n",
      "NegativeTest: 2561\n",
      "TP: 3316\n",
      "TN: 2553\n",
      "FP: 6\n",
      "FN: 8\n",
      "TPR: 0.9975932611311673\n",
      "TNR: 0.9976553341148886\n",
      "PPV: 0.9981938591210114\n",
      "NPV: 0.996876220226474\n",
      "FPR: 0.0023446658851113715\n",
      "FDR: 0.001806140878988561\n",
      "FNR: 0.0024067388688327317\n",
      "ACC: 0.9976202617712052\n",
      "F1_score: 0.9978934697562444\n",
      "MCC: 0.9951593332939035\n",
      "informedness: 0.9952485952460559\n",
      "markedness: 0.9950700793474856\n",
      "prevalence: 0.565017848036716\n",
      "LRP: 425.4735258724429\n",
      "LRN: 0.002412395129394031\n",
      "DOR: 176369.75\n",
      "FOR: 0.0031237797735259665\n",
      "RMSE=  0.04878256070354274\n"
     ]
    }
   ],
   "source": [
    "# train and test the model\n",
    "sclf.fit(X_train, y_train)\n",
    "y_pred = sclf.predict(X_test)\n",
    "\n",
    "from pandas_ml import ConfusionMatrix\n",
    "cm = ConfusionMatrix(y_test, y_pred)\n",
    "cm.print_stats()\n",
    "#Root mean square error between actual and predicted class\n",
    "from sklearn.metrics import mean_squared_error\n",
    "from math import sqrt\n",
    "RMSE = sqrt(mean_squared_error(y_test, y_pred))\n",
    "print(\"RMSE= \",RMSE)\n"
   ]
  },
  {
   "cell_type": "code",
   "execution_count": null,
   "metadata": {},
   "outputs": [],
   "source": []
  }
 ],
 "metadata": {
  "kernelspec": {
   "display_name": "Python 3",
   "language": "python",
   "name": "python3"
  },
  "language_info": {
   "codemirror_mode": {
    "name": "ipython",
    "version": 3
   },
   "file_extension": ".py",
   "mimetype": "text/x-python",
   "name": "python",
   "nbconvert_exporter": "python",
   "pygments_lexer": "ipython3",
   "version": "3.7.3"
  }
 },
 "nbformat": 4,
 "nbformat_minor": 2
}

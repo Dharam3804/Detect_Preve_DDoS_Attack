{
 "cells": [
  {
   "cell_type": "code",
   "execution_count": 1,
   "metadata": {},
   "outputs": [],
   "source": [
    "#importing libraries\n",
    "import numpy as np\n",
    "import pandas as pd \n",
    "import matplotlib.pyplot as plt\n",
    "import math"
   ]
  },
  {
   "cell_type": "code",
   "execution_count": 2,
   "metadata": {},
   "outputs": [
    {
     "name": "stdout",
     "output_type": "stream",
     "text": [
      "(113270, 42) (15451, 42)\n",
      "(128721, 42)\n",
      "[[0 'tcp' 'private' ... 0.0 1.0 1.0]\n",
      " [0 'tcp' 'private' ... 0.0 1.0 1.0]\n",
      " [2 'tcp' 'ftp_data' ... 0.0 0.0 0.0]\n",
      " ...\n",
      " [0 'tcp' 'smtp' ... 0.0 0.01 0.0]\n",
      " [0 'tcp' 'klogin' ... 1.0 0.0 0.0]\n",
      " [0 'tcp' 'ftp_data' ... 0.0 0.0 0.0]]\n",
      "[['DDoS']\n",
      " ['DDoS']\n",
      " ['normal']\n",
      " ...\n",
      " ['normal']\n",
      " ['DDoS']\n",
      " ['normal']]\n"
     ]
    }
   ],
   "source": [
    "#load the NSL_KDD dataset\n",
    "train=pd.read_csv('dataset/KDDTrain+.csv')\n",
    "test=pd.read_csv('dataset/KDDTest+.csv')\n",
    "\n",
    "#size of train and test data\n",
    "print(train.shape,test.shape)\n",
    "\n",
    "# concatenate traina and test data\n",
    "dataset=pd.concat([test,train])\n",
    "\n",
    "#size of whole dataset\n",
    "print(dataset.shape)\n",
    "\n",
    "#print(dataset.head(2))\n",
    "#print(dataset.columns)\n",
    "X = dataset.iloc[:, :-1].values\n",
    "print(X)\n",
    "y = dataset.iloc[:, 41:42].values\n",
    "print(y)"
   ]
  },
  {
   "cell_type": "code",
   "execution_count": 3,
   "metadata": {},
   "outputs": [
    {
     "name": "stdout",
     "output_type": "stream",
     "text": [
      "[[0.0 1.0 0.0 ... 0.0 1.0 1.0]\n",
      " [0.0 1.0 0.0 ... 0.0 1.0 1.0]\n",
      " [0.0 1.0 0.0 ... 0.0 0.0 0.0]\n",
      " ...\n",
      " [0.0 1.0 0.0 ... 0.0 0.01 0.0]\n",
      " [0.0 1.0 0.0 ... 1.0 0.0 0.0]\n",
      " [0.0 1.0 0.0 ... 0.0 0.0 0.0]]\n"
     ]
    }
   ],
   "source": [
    "#Encoding of dataset\n",
    "from sklearn.compose import ColumnTransformer\n",
    "from sklearn.preprocessing import OneHotEncoder\n",
    "ct = ColumnTransformer(transformers = [('encoder', OneHotEncoder(), [1, 2, 3])], remainder = 'passthrough')\n",
    "X= ct.fit_transform(X)\n",
    "print(X)"
   ]
  },
  {
   "cell_type": "code",
   "execution_count": 4,
   "metadata": {},
   "outputs": [
    {
     "name": "stdout",
     "output_type": "stream",
     "text": [
      "[0 0 1 ... 1 0 1]\n"
     ]
    }
   ],
   "source": [
    "from sklearn.preprocessing import LabelEncoder\n",
    "le_y = LabelEncoder()\n",
    "y[:, 0] = le_y.fit_transform(y[:, 0])\n",
    "y= y.astype(int)\n",
    "y = y.ravel()\n",
    "print(y)"
   ]
  },
  {
   "cell_type": "code",
   "execution_count": 5,
   "metadata": {},
   "outputs": [
    {
     "name": "stdout",
     "output_type": "stream",
     "text": [
      "[[0.   1.   0.   ... 0.   1.   1.  ]\n",
      " [0.   1.   0.   ... 0.   1.   1.  ]\n",
      " [0.   1.   0.   ... 0.   0.   0.  ]\n",
      " ...\n",
      " [0.   1.   0.   ... 0.   0.01 0.  ]\n",
      " [0.   1.   0.   ... 1.   0.   0.  ]\n",
      " [0.   1.   0.   ... 0.   0.   0.  ]]\n"
     ]
    }
   ],
   "source": [
    "# min_max normalisation between (a,b)\n",
    "from sklearn.preprocessing import minmax_scale\n",
    "X = minmax_scale(X, feature_range=(0,1), axis=0)\n",
    "print(X)"
   ]
  },
  {
   "cell_type": "code",
   "execution_count": 6,
   "metadata": {},
   "outputs": [
    {
     "data": {
      "text/plain": [
       "79     0.570033\n",
       "104    0.478160\n",
       "103    0.464442\n",
       "80     0.439379\n",
       "76     0.418130\n",
       "97     0.382104\n",
       "108    0.368668\n",
       "109    0.363167\n",
       "107    0.345305\n",
       "113    0.343953\n",
       "112    0.339801\n",
       "99     0.333293\n",
       "72     0.332544\n",
       "100    0.332257\n",
       "86     0.285735\n",
       "111    0.175151\n",
       "106    0.173685\n",
       "25     0.173028\n",
       "110    0.143554\n",
       "105    0.110893\n",
       "47     0.110723\n",
       "98     0.107711\n",
       "115    0.057154\n",
       "14     0.045065\n",
       "114    0.043446\n",
       "2      0.040284\n",
       "78     0.035685\n",
       "101    0.034368\n",
       "102    0.032562\n",
       "69     0.025669\n",
       "         ...   \n",
       "51     0.001442\n",
       "35     0.001428\n",
       "68     0.001219\n",
       "16     0.001199\n",
       "49     0.001104\n",
       "42     0.001076\n",
       "81     0.000736\n",
       "39     0.000730\n",
       "3      0.000570\n",
       "77     0.000251\n",
       "60     0.000154\n",
       "6      0.000092\n",
       "50     0.000004\n",
       "62     0.000000\n",
       "74     0.000000\n",
       "83     0.000000\n",
       "95     0.000000\n",
       "4      0.000000\n",
       "85     0.000000\n",
       "75     0.000000\n",
       "53     0.000000\n",
       "73     0.000000\n",
       "21     0.000000\n",
       "88     0.000000\n",
       "94     0.000000\n",
       "48     0.000000\n",
       "45     0.000000\n",
       "59     0.000000\n",
       "20     0.000000\n",
       "89     0.000000\n",
       "Length: 116, dtype: float64"
      ]
     },
     "execution_count": 6,
     "metadata": {},
     "output_type": "execute_result"
    }
   ],
   "source": [
    "# information gain\n",
    "\n",
    "from sklearn.feature_selection import mutual_info_classif\n",
    "# determine the mutual information or information gain\n",
    "mutual_info = mutual_info_classif(X, y)\n",
    "mutual_info\n",
    "mutual_info = pd.Series(mutual_info)\n",
    "mutual_info.sort_values(ascending=False)"
   ]
  },
  {
   "cell_type": "code",
   "execution_count": 7,
   "metadata": {},
   "outputs": [
    {
     "data": {
      "text/plain": [
       "SelectKBest(k=4,\n",
       "            score_func=<function mutual_info_classif at 0x0000019BCD0E1378>)"
      ]
     },
     "execution_count": 7,
     "metadata": {},
     "output_type": "execute_result"
    }
   ],
   "source": [
    "from sklearn.feature_selection import SelectKBest\n",
    "#No we Will select the  top important features\n",
    "selector1 = SelectKBest(mutual_info_classif, k=4)\n",
    "selector1.fit(X, y)\n",
    "#Get columns to keep and create new dataframe with those only"
   ]
  },
  {
   "cell_type": "code",
   "execution_count": 8,
   "metadata": {},
   "outputs": [
    {
     "name": "stdout",
     "output_type": "stream",
     "text": [
      "[[0.00000000e+00 0.00000000e+00 4.00000000e-02 6.00000000e-02]\n",
      " [0.00000000e+00 0.00000000e+00 1.00000000e-02 6.00000000e-02]\n",
      " [1.44929445e-04 0.00000000e+00 1.00000000e+00 0.00000000e+00]\n",
      " ...\n",
      " [2.49046902e-05 5.46335201e-05 1.00000000e+00 0.00000000e+00]\n",
      " [0.00000000e+00 0.00000000e+00 6.00000000e-02 5.00000000e-02]\n",
      " [1.68561552e-06 0.00000000e+00 1.00000000e+00 0.00000000e+00]]\n"
     ]
    }
   ],
   "source": [
    "cols = selector1.get_support(indices=True)\n",
    "XIG = X[:,cols]\n",
    "print(XIG)"
   ]
  },
  {
   "cell_type": "code",
   "execution_count": 9,
   "metadata": {},
   "outputs": [
    {
     "name": "stdout",
     "output_type": "stream",
     "text": [
      "(128721, 4)\n"
     ]
    }
   ],
   "source": [
    "print(XIG.shape)"
   ]
  },
  {
   "cell_type": "code",
   "execution_count": 10,
   "metadata": {},
   "outputs": [
    {
     "name": "stdout",
     "output_type": "stream",
     "text": [
      "[[3.66146946e-06 7.66576578e-04 1.00000000e+00 0.00000000e+00]\n",
      " [0.00000000e+00 0.00000000e+00 8.60000000e-01 2.90000000e-01]\n",
      " [1.15202332e-05 0.00000000e+00 1.00000000e+00 0.00000000e+00]\n",
      " ...\n",
      " [3.21494880e-06 2.51684107e-04 1.00000000e+00 0.00000000e+00]\n",
      " [2.41121160e-06 2.78289493e-04 1.00000000e+00 0.00000000e+00]\n",
      " [3.24843785e-06 1.54955744e-02 1.00000000e+00 0.00000000e+00]]\n",
      "[[0.00000000e+00 0.00000000e+00 4.40000000e-01 9.00000000e-02]\n",
      " [3.80658868e-06 1.85597466e-03 1.00000000e+00 0.00000000e+00]\n",
      " [0.00000000e+00 0.00000000e+00 6.00000000e-02 6.00000000e-02]\n",
      " ...\n",
      " [2.54516780e-06 1.96339213e-04 1.00000000e+00 0.00000000e+00]\n",
      " [5.20419837e-05 3.81751721e-03 1.00000000e+00 0.00000000e+00]\n",
      " [2.38888556e-06 9.18383781e-04 1.00000000e+00 0.00000000e+00]]\n",
      "[1 0 0 ... 1 1 1]\n",
      "[0 1 0 ... 1 1 1]\n"
     ]
    }
   ],
   "source": [
    "# splitting of dataset in train and test\n",
    "from sklearn.model_selection import train_test_split\n",
    "X_train, X_test, y_train, y_test = train_test_split(XIG, y, test_size = 0.2, random_state =42)\n",
    "print(X_train)\n",
    "print(X_test)\n",
    "print(y_train)\n",
    "print(y_test)"
   ]
  },
  {
   "cell_type": "code",
   "execution_count": 11,
   "metadata": {},
   "outputs": [],
   "source": [
    "from sklearn.ensemble import RandomForestClassifier,GradientBoostingClassifier\n",
    "from sklearn.linear_model import LogisticRegression"
   ]
  },
  {
   "cell_type": "code",
   "execution_count": 12,
   "metadata": {},
   "outputs": [
    {
     "name": "stdout",
     "output_type": "stream",
     "text": [
      "population: 25745\n",
      "P: 15363\n",
      "N: 10382\n",
      "PositiveTest: 15604\n",
      "NegativeTest: 10141\n",
      "TP: 15338\n",
      "TN: 10116\n",
      "FP: 266\n",
      "FN: 25\n",
      "TPR: 0.9983727136626961\n",
      "TNR: 0.9743787324214987\n",
      "PPV: 0.9829530889515509\n",
      "NPV: 0.9975347598856129\n",
      "FPR: 0.025621267578501253\n",
      "FDR: 0.017046911048449114\n",
      "FNR: 0.001627286337303912\n",
      "ACC: 0.9886968343367645\n",
      "F1_score: 0.9906028998611425\n",
      "MCC: 0.9766119868321975\n",
      "informedness: 0.9727514460841948\n",
      "markedness: 0.9804878488371638\n",
      "prevalence: 0.5967372305302\n",
      "LRP: 38.966562079872595\n",
      "LRN: 0.0016700757961535403\n",
      "DOR: 23332.21172932331\n",
      "FOR: 0.0024652401143871413\n",
      "RMSE=  0.10631634711198264\n"
     ]
    }
   ],
   "source": [
    "# base classifier RandomForest\n",
    "y_train = y_train.ravel()\n",
    "clf1 = RandomForestClassifier(n_estimators=100)\n",
    "clf1.fit(X_train, y_train)\n",
    "y_pred1 = clf1.predict(X_test)\n",
    "\n",
    "from pandas_ml import ConfusionMatrix\n",
    "cm = ConfusionMatrix(y_test, y_pred1)\n",
    "cm.print_stats()\n",
    "from sklearn.metrics import mean_squared_error\n",
    "from math import sqrt\n",
    "RMSE = sqrt(mean_squared_error(y_test, y_pred1))\n",
    "print(\"RMSE= \",RMSE)"
   ]
  },
  {
   "cell_type": "code",
   "execution_count": 13,
   "metadata": {},
   "outputs": [
    {
     "name": "stdout",
     "output_type": "stream",
     "text": [
      "population: 25745\n",
      "P: 15363\n",
      "N: 10382\n",
      "PositiveTest: 15611\n",
      "NegativeTest: 10134\n",
      "TP: 15333\n",
      "TN: 10104\n",
      "FP: 278\n",
      "FN: 30\n",
      "TPR: 0.9980472563952353\n",
      "TNR: 0.973222885763822\n",
      "PPV: 0.9821920440714881\n",
      "NPV: 0.9970396684428656\n",
      "FPR: 0.026777114236178002\n",
      "FDR: 0.017807955928511948\n",
      "FNR: 0.0019527436047646943\n",
      "ACC: 0.9880365119440668\n",
      "F1_score: 0.9900561761477368\n",
      "MCC: 0.9752428029062677\n",
      "informedness: 0.9712701421590573\n",
      "markedness: 0.9792317125143537\n",
      "prevalence: 0.5967372305302\n",
      "LRP: 37.272397898904075\n",
      "LRN: 0.0020064711109132084\n",
      "DOR: 18576.094964028776\n",
      "FOR: 0.002960331557134399\n",
      "RMSE=  0.10937773107874012\n"
     ]
    }
   ],
   "source": [
    "# base classifier GradientBoosting\n",
    "clf2 = GradientBoostingClassifier(n_estimators=100)\n",
    "clf2.fit(X_train, y_train)\n",
    "y_pred2 = clf2.predict(X_test)\n",
    "\n",
    "from pandas_ml import ConfusionMatrix\n",
    "cm = ConfusionMatrix(y_test, y_pred2)\n",
    "cm.print_stats()\n",
    "from sklearn.metrics import mean_squared_error\n",
    "from math import sqrt\n",
    "RMSE = sqrt(mean_squared_error(y_test, y_pred2))\n",
    "print(\"RMSE= \",RMSE)\n"
   ]
  },
  {
   "cell_type": "code",
   "execution_count": 14,
   "metadata": {},
   "outputs": [
    {
     "name": "stdout",
     "output_type": "stream",
     "text": [
      "population: 25745\n",
      "P: 15363\n",
      "N: 10382\n",
      "PositiveTest: 16598\n",
      "NegativeTest: 9147\n",
      "TP: 15169\n",
      "TN: 8953\n",
      "FP: 1429\n",
      "FN: 194\n",
      "TPR: 0.9873722580225216\n",
      "TNR: 0.8623579271816606\n",
      "PPV: 0.913905289793951\n",
      "NPV: 0.9787908603913852\n",
      "FPR: 0.13764207281833943\n",
      "FDR: 0.08609471020604892\n",
      "FNR: 0.012627741977478357\n",
      "ACC: 0.9369586327442222\n",
      "F1_score: 0.9492193610963362\n",
      "MCC: 0.8709482562288337\n",
      "informedness: 0.8497301852041823\n",
      "markedness: 0.8926961501853361\n",
      "prevalence: 0.5967372305302\n",
      "LRP: 7.173477104821427\n",
      "LRN: 0.014643272334433183\n",
      "DOR: 489.8821070173794\n",
      "FOR: 0.021209139608614848\n",
      "RMSE=  0.2510803999833078\n"
     ]
    }
   ],
   "source": [
    "# svm\n",
    "from sklearn.svm import SVC  \n",
    "clf3= SVC(kernel='linear') \n",
    "clf3.fit(X_train, y_train) \n",
    "y_pred3 = clf3.predict(X_test)\n",
    "\n",
    "from pandas_ml import ConfusionMatrix\n",
    "cm = ConfusionMatrix(y_test, y_pred3)\n",
    "cm.print_stats()\n",
    "from sklearn.metrics import mean_squared_error\n",
    "from math import sqrt\n",
    "RMSE = sqrt(mean_squared_error(y_test, y_pred3))\n",
    "print(\"RMSE= \",RMSE)"
   ]
  },
  {
   "cell_type": "code",
   "execution_count": 15,
   "metadata": {},
   "outputs": [
    {
     "name": "stdout",
     "output_type": "stream",
     "text": [
      "population: 25745\n",
      "P: 15363\n",
      "N: 10382\n",
      "PositiveTest: 15388\n",
      "NegativeTest: 10357\n",
      "TP: 15244\n",
      "TN: 10238\n",
      "FP: 144\n",
      "FN: 119\n",
      "TPR: 0.9922541170344333\n",
      "TNR: 0.9861298401078791\n",
      "PPV: 0.9906420587470757\n",
      "NPV: 0.9885101863473978\n",
      "FPR: 0.01387015989212098\n",
      "FDR: 0.009357941252924357\n",
      "FNR: 0.007745882965566621\n",
      "ACC: 0.9897844241600311\n",
      "F1_score: 0.9914474326038177\n",
      "MCC: 0.9787680257345509\n",
      "informedness: 0.9783839571423125\n",
      "markedness: 0.9791522450944736\n",
      "prevalence: 0.5967372305302\n",
      "LRP: 71.53876557674643\n",
      "LRN: 0.007854830723628898\n",
      "DOR: 9107.613912231558\n",
      "FOR: 0.011489813652602104\n",
      "RMSE=  0.10107213186615253\n"
     ]
    }
   ],
   "source": [
    "# KNN\n",
    "from sklearn.neighbors import KNeighborsClassifier\n",
    "clf4 = KNeighborsClassifier(n_neighbors =12)\n",
    "clf4.fit(X_train, y_train) \n",
    "y_pred4 = clf4.predict(X_test)\n",
    "\n",
    "from pandas_ml import ConfusionMatrix\n",
    "cm = ConfusionMatrix(y_test, y_pred4)\n",
    "cm.print_stats()\n",
    "from sklearn.metrics import mean_squared_error\n",
    "from math import sqrt\n",
    "RMSE = sqrt(mean_squared_error(y_test, y_pred4))\n",
    "print(\"RMSE= \",RMSE)"
   ]
  },
  {
   "cell_type": "code",
   "execution_count": 16,
   "metadata": {},
   "outputs": [],
   "source": [
    "# meta classifier LogisticRegression\n",
    "lr = LogisticRegression(solver='lbfgs')\n",
    "\n",
    "# stack esemble method \n",
    "from mlxtend.classifier import StackingClassifier\n",
    "sclf = StackingClassifier(classifiers=[clf1, clf2,clf4], \n",
    "                          meta_classifier=lr)"
   ]
  },
  {
   "cell_type": "code",
   "execution_count": 17,
   "metadata": {},
   "outputs": [
    {
     "name": "stdout",
     "output_type": "stream",
     "text": [
      "population: 25745\n",
      "P: 15363\n",
      "N: 10382\n",
      "PositiveTest: 15340\n",
      "NegativeTest: 10405\n",
      "TP: 15233\n",
      "TN: 10275\n",
      "FP: 107\n",
      "FN: 130\n",
      "TPR: 0.9915381110460196\n",
      "TNR: 0.9896937006357157\n",
      "PPV: 0.9930247718383312\n",
      "NPV: 0.9875060067275349\n",
      "FPR: 0.010306299364284338\n",
      "FDR: 0.00697522816166884\n",
      "FNR: 0.008461888953980342\n",
      "ACC: 0.9907943289959216\n",
      "F1_score: 0.9922808846041103\n",
      "MCC: 0.9808812324954981\n",
      "informedness: 0.9812318116817353\n",
      "markedness: 0.9805307785658659\n",
      "prevalence: 0.5967372305302\n",
      "LRP: 96.20699690541846\n",
      "LRN: 0.008550007894912302\n",
      "DOR: 11252.269949676493\n",
      "FOR: 0.012493993272465162\n",
      "RMSE=  0.09594618806434398\n"
     ]
    }
   ],
   "source": [
    "# train and test the model\n",
    "sclf.fit(X_train, y_train)\n",
    "y_pred = sclf.predict(X_test)\n",
    "\n",
    "from pandas_ml import ConfusionMatrix\n",
    "cm = ConfusionMatrix(y_test, y_pred)\n",
    "cm.print_stats()\n",
    "from sklearn.metrics import mean_squared_error\n",
    "from math import sqrt\n",
    "RMSE = sqrt(mean_squared_error(y_test, y_pred))\n",
    "print(\"RMSE= \",RMSE)"
   ]
  },
  {
   "cell_type": "code",
   "execution_count": null,
   "metadata": {},
   "outputs": [],
   "source": []
  }
 ],
 "metadata": {
  "kernelspec": {
   "display_name": "Python 3",
   "language": "python",
   "name": "python3"
  },
  "language_info": {
   "codemirror_mode": {
    "name": "ipython",
    "version": 3
   },
   "file_extension": ".py",
   "mimetype": "text/x-python",
   "name": "python",
   "nbconvert_exporter": "python",
   "pygments_lexer": "ipython3",
   "version": "3.7.3"
  }
 },
 "nbformat": 4,
 "nbformat_minor": 2
}
